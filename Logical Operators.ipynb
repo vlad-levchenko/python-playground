{
 "cells": [
  {
   "cell_type": "markdown",
   "id": "7a53ccf5-274e-4709-b93e-1c92884f7c43",
   "metadata": {},
   "source": [
    "# Logical AND"
   ]
  },
  {
   "cell_type": "code",
   "execution_count": 1,
   "id": "d66fe1c5-74ec-4956-9239-59fa89710aae",
   "metadata": {},
   "outputs": [
    {
     "name": "stdout",
     "output_type": "stream",
     "text": [
      "False\n",
      "True\n"
     ]
    }
   ],
   "source": [
    "print(True and False)\n",
    "print(True and True)"
   ]
  },
  {
   "cell_type": "markdown",
   "id": "8c5e2187-62da-4061-98c0-dd1d368383f3",
   "metadata": {},
   "source": [
    "# Logical OR"
   ]
  },
  {
   "cell_type": "code",
   "execution_count": 4,
   "id": "52bdeb84-1518-449e-81df-1a4e119b582f",
   "metadata": {},
   "outputs": [
    {
     "name": "stdout",
     "output_type": "stream",
     "text": [
      "True\n",
      "True\n",
      "False\n"
     ]
    }
   ],
   "source": [
    "print(True or False)\n",
    "print(True or True)\n",
    "print(False or False)"
   ]
  },
  {
   "cell_type": "markdown",
   "id": "015c4127-809d-4021-88b8-ff7cf3ba89f5",
   "metadata": {},
   "source": [
    "# Logical NOT"
   ]
  },
  {
   "cell_type": "code",
   "execution_count": 9,
   "id": "acfbaa26-a0d6-49e2-b552-a6b199f87676",
   "metadata": {},
   "outputs": [
    {
     "name": "stdout",
     "output_type": "stream",
     "text": [
      "False\n",
      "False\n",
      "True\n"
     ]
    }
   ],
   "source": [
    "print(not 'abc')\n",
    "print(not True)\n",
    "print(not False)"
   ]
  },
  {
   "cell_type": "markdown",
   "id": "bdb493e0-e883-40d5-a685-b276185bce8e",
   "metadata": {},
   "source": [
    "# Logical Operators With Expressions"
   ]
  },
  {
   "cell_type": "code",
   "execution_count": 10,
   "id": "450b884c-dbd0-4215-b9c4-f8eb7244f6ba",
   "metadata": {},
   "outputs": [],
   "source": [
    "a = 10\n",
    "b = 4\n",
    "c = 4"
   ]
  },
  {
   "cell_type": "code",
   "execution_count": 11,
   "id": "661c7a27-aad2-4796-a8ee-0f3cccc3bd26",
   "metadata": {},
   "outputs": [
    {
     "name": "stdout",
     "output_type": "stream",
     "text": [
      "True\n"
     ]
    }
   ],
   "source": [
    "print((b >= c) and (b <= c))"
   ]
  },
  {
   "cell_type": "code",
   "execution_count": 12,
   "id": "163d445e-819c-4b5e-a9cc-59dfde576e7e",
   "metadata": {},
   "outputs": [
    {
     "name": "stdout",
     "output_type": "stream",
     "text": [
      "False\n"
     ]
    }
   ],
   "source": [
    "print((b >= c) and (a <= c))"
   ]
  },
  {
   "cell_type": "code",
   "execution_count": 13,
   "id": "1e5b90c2-70e0-4a71-ab9d-5fff26d61587",
   "metadata": {},
   "outputs": [
    {
     "name": "stdout",
     "output_type": "stream",
     "text": [
      "True\n"
     ]
    }
   ],
   "source": [
    "print((b >= c) or (a <= c))"
   ]
  },
  {
   "cell_type": "code",
   "execution_count": null,
   "id": "e24276f6-0ffe-42d4-98f8-fbbf069adb26",
   "metadata": {},
   "outputs": [],
   "source": []
  }
 ],
 "metadata": {
  "kernelspec": {
   "display_name": "Python 3 (ipykernel)",
   "language": "python",
   "name": "python3"
  },
  "language_info": {
   "codemirror_mode": {
    "name": "ipython",
    "version": 3
   },
   "file_extension": ".py",
   "mimetype": "text/x-python",
   "name": "python",
   "nbconvert_exporter": "python",
   "pygments_lexer": "ipython3",
   "version": "3.11.1"
  }
 },
 "nbformat": 4,
 "nbformat_minor": 5
}
