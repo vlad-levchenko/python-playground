{
 "cells": [
  {
   "cell_type": "markdown",
   "id": "17bd251c",
   "metadata": {},
   "source": [
    "# Creating Lists"
   ]
  },
  {
   "cell_type": "code",
   "execution_count": 1,
   "id": "6c951f70",
   "metadata": {},
   "outputs": [
    {
     "name": "stdout",
     "output_type": "stream",
     "text": [
      "['John', 'Andy', 'Jade']\n",
      "<class 'list'>\n"
     ]
    }
   ],
   "source": [
    "myList = ['John', 'Andy', 'Jade']\n",
    "print(myList)\n",
    "print(type(myList))"
   ]
  },
  {
   "cell_type": "markdown",
   "id": "54904ef4",
   "metadata": {},
   "source": [
    "## Creating a list of numbers"
   ]
  },
  {
   "cell_type": "code",
   "execution_count": 2,
   "id": "92f0aa6d",
   "metadata": {},
   "outputs": [
    {
     "name": "stdout",
     "output_type": "stream",
     "text": [
      "[1, 3, 5]\n",
      "<class 'list'>\n"
     ]
    }
   ],
   "source": [
    "numbersList = [1, 3, 5]\n",
    "print(numbersList)\n",
    "print(type(numbersList))"
   ]
  },
  {
   "cell_type": "markdown",
   "id": "6cdaf2ec",
   "metadata": {},
   "source": [
    "## Creating a list with mixed data types"
   ]
  },
  {
   "cell_type": "code",
   "execution_count": 9,
   "id": "5658becc",
   "metadata": {},
   "outputs": [
    {
     "name": "stdout",
     "output_type": "stream",
     "text": [
      "[1, 'John', 3, 5.3, ['a', 'b', 'c']]\n",
      "<class 'list'>\n"
     ]
    }
   ],
   "source": [
    "mixedList = [1, 'John', 3, 5.3, ['a', 'b', 'c']]\n",
    "print(mixedList)\n",
    "print(type(mixedList))"
   ]
  },
  {
   "cell_type": "markdown",
   "id": "3f22d116",
   "metadata": {},
   "source": [
    "## Accessing elemenst in the list"
   ]
  },
  {
   "cell_type": "code",
   "execution_count": 8,
   "id": "2170904b",
   "metadata": {},
   "outputs": [
    {
     "name": "stdout",
     "output_type": "stream",
     "text": [
      "John\n",
      "John\n"
     ]
    }
   ],
   "source": [
    "print(myList[0])\n",
    "print(myList[-3])"
   ]
  },
  {
   "cell_type": "code",
   "execution_count": 10,
   "id": "62e677fe",
   "metadata": {},
   "outputs": [
    {
     "name": "stdout",
     "output_type": "stream",
     "text": [
      "b\n"
     ]
    }
   ],
   "source": [
    "print(mixedList[4][1])"
   ]
  },
  {
   "cell_type": "markdown",
   "id": "3a6c1ae1",
   "metadata": {},
   "source": [
    "# Characterisics of list"
   ]
  },
  {
   "cell_type": "markdown",
   "id": "4ef8013a",
   "metadata": {},
   "source": [
    "## 1. List can be modified"
   ]
  },
  {
   "cell_type": "code",
   "execution_count": 12,
   "id": "904044e2",
   "metadata": {},
   "outputs": [
    {
     "name": "stdout",
     "output_type": "stream",
     "text": [
      "['John', 'Andy', 'Jade']\n",
      "['Vlad', 'Andy', 'Jade']\n"
     ]
    }
   ],
   "source": [
    "print(myList)\n",
    "myList[0] = 'Vlad'\n",
    "print(myList)"
   ]
  },
  {
   "cell_type": "code",
   "execution_count": 15,
   "id": "163e80da",
   "metadata": {},
   "outputs": [
    {
     "name": "stdout",
     "output_type": "stream",
     "text": [
      "['Vlad', 'Andy', 'Jade', 'Yana', 'Yana', 'Yana', 'Vlad']\n"
     ]
    }
   ],
   "source": [
    "myList.append('Yana')\n",
    "myList.append('Vlad')\n",
    "print(myList)"
   ]
  },
  {
   "cell_type": "code",
   "execution_count": null,
   "id": "521715d1",
   "metadata": {},
   "outputs": [],
   "source": []
  }
 ],
 "metadata": {
  "kernelspec": {
   "display_name": "Python 3 (ipykernel)",
   "language": "python",
   "name": "python3"
  },
  "language_info": {
   "codemirror_mode": {
    "name": "ipython",
    "version": 3
   },
   "file_extension": ".py",
   "mimetype": "text/x-python",
   "name": "python",
   "nbconvert_exporter": "python",
   "pygments_lexer": "ipython3",
   "version": "3.11.1"
  }
 },
 "nbformat": 4,
 "nbformat_minor": 5
}
