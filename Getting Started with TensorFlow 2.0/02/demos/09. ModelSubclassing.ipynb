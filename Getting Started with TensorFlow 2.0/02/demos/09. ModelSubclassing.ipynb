{
 "cells": [
  {
   "cell_type": "markdown",
   "metadata": {},
   "source": [
    "### Importing libraries"
   ]
  },
  {
   "cell_type": "code",
   "execution_count": 1,
   "metadata": {},
   "outputs": [],
   "source": [
    "import pandas as pd\n",
    "import numpy as np\n",
    "\n",
    "import seaborn as sns\n",
    "import matplotlib.pyplot as plt   \n",
    "\n",
    "from sklearn import datasets\n",
    "from sklearn.model_selection import train_test_split\n",
    "from sklearn.preprocessing import StandardScaler\n",
    "from sklearn.metrics import accuracy_score\n",
    "\n",
    "\n",
    "import tensorflow as tf\n",
    "\n",
    "from tensorflow import keras\n",
    "from tensorflow.keras import layers\n",
    "from tensorflow.keras import Model\n",
    "from tensorflow.keras.utils import to_categorical"
   ]
  },
  {
   "cell_type": "markdown",
   "metadata": {},
   "source": [
    "### Loading the dataset"
   ]
  },
  {
   "cell_type": "code",
   "execution_count": 2,
   "metadata": {
    "scrolled": true
   },
   "outputs": [],
   "source": [
    "wine_data = datasets.load_wine()"
   ]
  },
  {
   "cell_type": "code",
   "execution_count": 3,
   "metadata": {
    "scrolled": true
   },
   "outputs": [
    {
     "name": "stdout",
     "output_type": "stream",
     "text": [
      ".. _wine_dataset:\n",
      "\n",
      "Wine recognition dataset\n",
      "------------------------\n",
      "\n",
      "**Data Set Characteristics:**\n",
      "\n",
      "    :Number of Instances: 178 (50 in each of three classes)\n",
      "    :Number of Attributes: 13 numeric, predictive attributes and the class\n",
      "    :Attribute Information:\n",
      " \t\t- Alcohol\n",
      " \t\t- Malic acid\n",
      " \t\t- Ash\n",
      "\t\t- Alcalinity of ash  \n",
      " \t\t- Magnesium\n",
      "\t\t- Total phenols\n",
      " \t\t- Flavanoids\n",
      " \t\t- Nonflavanoid phenols\n",
      " \t\t- Proanthocyanins\n",
      "\t\t- Color intensity\n",
      " \t\t- Hue\n",
      " \t\t- OD280/OD315 of diluted wines\n",
      " \t\t- Proline\n",
      "\n",
      "    - class:\n",
      "            - class_0\n",
      "            - class_1\n",
      "            - class_2\n",
      "\t\t\n",
      "    :Summary Statistics:\n",
      "    \n",
      "    ============================= ==== ===== ======= =====\n",
      "                                   Min   Max   Mean     SD\n",
      "    ============================= ==== ===== ======= =====\n",
      "    Alcohol:                      11.0  14.8    13.0   0.8\n",
      "    Malic Acid:                   0.74  5.80    2.34  1.12\n",
      "    Ash:                          1.36  3.23    2.36  0.27\n",
      "    Alcalinity of Ash:            10.6  30.0    19.5   3.3\n",
      "    Magnesium:                    70.0 162.0    99.7  14.3\n",
      "    Total Phenols:                0.98  3.88    2.29  0.63\n",
      "    Flavanoids:                   0.34  5.08    2.03  1.00\n",
      "    Nonflavanoid Phenols:         0.13  0.66    0.36  0.12\n",
      "    Proanthocyanins:              0.41  3.58    1.59  0.57\n",
      "    Colour Intensity:              1.3  13.0     5.1   2.3\n",
      "    Hue:                          0.48  1.71    0.96  0.23\n",
      "    OD280/OD315 of diluted wines: 1.27  4.00    2.61  0.71\n",
      "    Proline:                       278  1680     746   315\n",
      "    ============================= ==== ===== ======= =====\n",
      "\n",
      "    :Missing Attribute Values: None\n",
      "    :Class Distribution: class_0 (59), class_1 (71), class_2 (48)\n",
      "    :Creator: R.A. Fisher\n",
      "    :Donor: Michael Marshall (MARSHALL%PLU@io.arc.nasa.gov)\n",
      "    :Date: July, 1988\n",
      "\n",
      "This is a copy of UCI ML Wine recognition datasets.\n",
      "https://archive.ics.uci.edu/ml/machine-learning-databases/wine/wine.data\n",
      "\n",
      "The data is the results of a chemical analysis of wines grown in the same\n",
      "region in Italy by three different cultivators. There are thirteen different\n",
      "measurements taken for different constituents found in the three types of\n",
      "wine.\n",
      "\n",
      "Original Owners: \n",
      "\n",
      "Forina, M. et al, PARVUS - \n",
      "An Extendible Package for Data Exploration, Classification and Correlation. \n",
      "Institute of Pharmaceutical and Food Analysis and Technologies,\n",
      "Via Brigata Salerno, 16147 Genoa, Italy.\n",
      "\n",
      "Citation:\n",
      "\n",
      "Lichman, M. (2013). UCI Machine Learning Repository\n",
      "[https://archive.ics.uci.edu/ml]. Irvine, CA: University of California,\n",
      "School of Information and Computer Science. \n",
      "\n",
      ".. topic:: References\n",
      "\n",
      "  (1) S. Aeberhard, D. Coomans and O. de Vel, \n",
      "  Comparison of Classifiers in High Dimensional Settings, \n",
      "  Tech. Rep. no. 92-02, (1992), Dept. of Computer Science and Dept. of  \n",
      "  Mathematics and Statistics, James Cook University of North Queensland. \n",
      "  (Also submitted to Technometrics). \n",
      "\n",
      "  The data was used with many others for comparing various \n",
      "  classifiers. The classes are separable, though only RDA \n",
      "  has achieved 100% correct classification. \n",
      "  (RDA : 100%, QDA 99.4%, LDA 98.9%, 1NN 96.1% (z-transformed data)) \n",
      "  (All results using the leave-one-out technique) \n",
      "\n",
      "  (2) S. Aeberhard, D. Coomans and O. de Vel, \n",
      "  \"THE CLASSIFICATION PERFORMANCE OF RDA\" \n",
      "  Tech. Rep. no. 92-01, (1992), Dept. of Computer Science and Dept. of \n",
      "  Mathematics and Statistics, James Cook University of North Queensland. \n",
      "  (Also submitted to Journal of Chemometrics).\n",
      "\n"
     ]
    }
   ],
   "source": [
    "print(wine_data['DESCR'])"
   ]
  },
  {
   "cell_type": "markdown",
   "metadata": {},
   "source": [
    "### To dataframe"
   ]
  },
  {
   "cell_type": "code",
   "execution_count": 4,
   "metadata": {},
   "outputs": [
    {
     "data": {
      "text/html": [
       "<div>\n",
       "<style scoped>\n",
       "    .dataframe tbody tr th:only-of-type {\n",
       "        vertical-align: middle;\n",
       "    }\n",
       "\n",
       "    .dataframe tbody tr th {\n",
       "        vertical-align: top;\n",
       "    }\n",
       "\n",
       "    .dataframe thead th {\n",
       "        text-align: right;\n",
       "    }\n",
       "</style>\n",
       "<table border=\"1\" class=\"dataframe\">\n",
       "  <thead>\n",
       "    <tr style=\"text-align: right;\">\n",
       "      <th></th>\n",
       "      <th>alcohol</th>\n",
       "      <th>malic_acid</th>\n",
       "      <th>ash</th>\n",
       "      <th>alcalinity_of_ash</th>\n",
       "      <th>magnesium</th>\n",
       "      <th>total_phenols</th>\n",
       "      <th>flavanoids</th>\n",
       "      <th>nonflavanoid_phenols</th>\n",
       "      <th>proanthocyanins</th>\n",
       "      <th>color_intensity</th>\n",
       "      <th>hue</th>\n",
       "      <th>od280/od315_of_diluted_wines</th>\n",
       "      <th>proline</th>\n",
       "      <th>target</th>\n",
       "    </tr>\n",
       "  </thead>\n",
       "  <tbody>\n",
       "    <tr>\n",
       "      <td>74</td>\n",
       "      <td>11.96</td>\n",
       "      <td>1.09</td>\n",
       "      <td>2.30</td>\n",
       "      <td>21.0</td>\n",
       "      <td>101.0</td>\n",
       "      <td>3.38</td>\n",
       "      <td>2.14</td>\n",
       "      <td>0.13</td>\n",
       "      <td>1.65</td>\n",
       "      <td>3.21</td>\n",
       "      <td>0.99</td>\n",
       "      <td>3.13</td>\n",
       "      <td>886.0</td>\n",
       "      <td>1</td>\n",
       "    </tr>\n",
       "    <tr>\n",
       "      <td>22</td>\n",
       "      <td>13.71</td>\n",
       "      <td>1.86</td>\n",
       "      <td>2.36</td>\n",
       "      <td>16.6</td>\n",
       "      <td>101.0</td>\n",
       "      <td>2.61</td>\n",
       "      <td>2.88</td>\n",
       "      <td>0.27</td>\n",
       "      <td>1.69</td>\n",
       "      <td>3.80</td>\n",
       "      <td>1.11</td>\n",
       "      <td>4.00</td>\n",
       "      <td>1035.0</td>\n",
       "      <td>0</td>\n",
       "    </tr>\n",
       "    <tr>\n",
       "      <td>149</td>\n",
       "      <td>13.08</td>\n",
       "      <td>3.90</td>\n",
       "      <td>2.36</td>\n",
       "      <td>21.5</td>\n",
       "      <td>113.0</td>\n",
       "      <td>1.41</td>\n",
       "      <td>1.39</td>\n",
       "      <td>0.34</td>\n",
       "      <td>1.14</td>\n",
       "      <td>9.40</td>\n",
       "      <td>0.57</td>\n",
       "      <td>1.33</td>\n",
       "      <td>550.0</td>\n",
       "      <td>2</td>\n",
       "    </tr>\n",
       "    <tr>\n",
       "      <td>78</td>\n",
       "      <td>12.33</td>\n",
       "      <td>0.99</td>\n",
       "      <td>1.95</td>\n",
       "      <td>14.8</td>\n",
       "      <td>136.0</td>\n",
       "      <td>1.90</td>\n",
       "      <td>1.85</td>\n",
       "      <td>0.35</td>\n",
       "      <td>2.76</td>\n",
       "      <td>3.40</td>\n",
       "      <td>1.06</td>\n",
       "      <td>2.31</td>\n",
       "      <td>750.0</td>\n",
       "      <td>1</td>\n",
       "    </tr>\n",
       "    <tr>\n",
       "      <td>123</td>\n",
       "      <td>13.05</td>\n",
       "      <td>5.80</td>\n",
       "      <td>2.13</td>\n",
       "      <td>21.5</td>\n",
       "      <td>86.0</td>\n",
       "      <td>2.62</td>\n",
       "      <td>2.65</td>\n",
       "      <td>0.30</td>\n",
       "      <td>2.01</td>\n",
       "      <td>2.60</td>\n",
       "      <td>0.73</td>\n",
       "      <td>3.10</td>\n",
       "      <td>380.0</td>\n",
       "      <td>1</td>\n",
       "    </tr>\n",
       "  </tbody>\n",
       "</table>\n",
       "</div>"
      ],
      "text/plain": [
       "     alcohol  malic_acid   ash  alcalinity_of_ash  magnesium  total_phenols  \\\n",
       "74     11.96        1.09  2.30               21.0      101.0           3.38   \n",
       "22     13.71        1.86  2.36               16.6      101.0           2.61   \n",
       "149    13.08        3.90  2.36               21.5      113.0           1.41   \n",
       "78     12.33        0.99  1.95               14.8      136.0           1.90   \n",
       "123    13.05        5.80  2.13               21.5       86.0           2.62   \n",
       "\n",
       "     flavanoids  nonflavanoid_phenols  proanthocyanins  color_intensity   hue  \\\n",
       "74         2.14                  0.13             1.65             3.21  0.99   \n",
       "22         2.88                  0.27             1.69             3.80  1.11   \n",
       "149        1.39                  0.34             1.14             9.40  0.57   \n",
       "78         1.85                  0.35             2.76             3.40  1.06   \n",
       "123        2.65                  0.30             2.01             2.60  0.73   \n",
       "\n",
       "     od280/od315_of_diluted_wines  proline  target  \n",
       "74                           3.13    886.0       1  \n",
       "22                           4.00   1035.0       0  \n",
       "149                          1.33    550.0       2  \n",
       "78                           2.31    750.0       1  \n",
       "123                          3.10    380.0       1  "
      ]
     },
     "execution_count": 4,
     "metadata": {},
     "output_type": "execute_result"
    }
   ],
   "source": [
    "data = pd.DataFrame(data = wine_data['data'], columns = wine_data['feature_names'])\n",
    "\n",
    "data['target'] = wine_data['target']\n",
    "\n",
    "data.sample(5)"
   ]
  },
  {
   "cell_type": "code",
   "execution_count": 5,
   "metadata": {},
   "outputs": [
    {
     "data": {
      "text/plain": [
       "(178, 14)"
      ]
     },
     "execution_count": 5,
     "metadata": {},
     "output_type": "execute_result"
    }
   ],
   "source": [
    "data.shape"
   ]
  },
  {
   "cell_type": "code",
   "execution_count": 6,
   "metadata": {
    "scrolled": true
   },
   "outputs": [
    {
     "data": {
      "text/html": [
       "<div>\n",
       "<style scoped>\n",
       "    .dataframe tbody tr th:only-of-type {\n",
       "        vertical-align: middle;\n",
       "    }\n",
       "\n",
       "    .dataframe tbody tr th {\n",
       "        vertical-align: top;\n",
       "    }\n",
       "\n",
       "    .dataframe thead th {\n",
       "        text-align: right;\n",
       "    }\n",
       "</style>\n",
       "<table border=\"1\" class=\"dataframe\">\n",
       "  <thead>\n",
       "    <tr style=\"text-align: right;\">\n",
       "      <th></th>\n",
       "      <th>count</th>\n",
       "      <th>mean</th>\n",
       "      <th>std</th>\n",
       "      <th>min</th>\n",
       "      <th>25%</th>\n",
       "      <th>50%</th>\n",
       "      <th>75%</th>\n",
       "      <th>max</th>\n",
       "    </tr>\n",
       "  </thead>\n",
       "  <tbody>\n",
       "    <tr>\n",
       "      <td>alcohol</td>\n",
       "      <td>178.0</td>\n",
       "      <td>13.000618</td>\n",
       "      <td>0.811827</td>\n",
       "      <td>11.03</td>\n",
       "      <td>12.3625</td>\n",
       "      <td>13.050</td>\n",
       "      <td>13.6775</td>\n",
       "      <td>14.83</td>\n",
       "    </tr>\n",
       "    <tr>\n",
       "      <td>malic_acid</td>\n",
       "      <td>178.0</td>\n",
       "      <td>2.336348</td>\n",
       "      <td>1.117146</td>\n",
       "      <td>0.74</td>\n",
       "      <td>1.6025</td>\n",
       "      <td>1.865</td>\n",
       "      <td>3.0825</td>\n",
       "      <td>5.80</td>\n",
       "    </tr>\n",
       "    <tr>\n",
       "      <td>ash</td>\n",
       "      <td>178.0</td>\n",
       "      <td>2.366517</td>\n",
       "      <td>0.274344</td>\n",
       "      <td>1.36</td>\n",
       "      <td>2.2100</td>\n",
       "      <td>2.360</td>\n",
       "      <td>2.5575</td>\n",
       "      <td>3.23</td>\n",
       "    </tr>\n",
       "    <tr>\n",
       "      <td>alcalinity_of_ash</td>\n",
       "      <td>178.0</td>\n",
       "      <td>19.494944</td>\n",
       "      <td>3.339564</td>\n",
       "      <td>10.60</td>\n",
       "      <td>17.2000</td>\n",
       "      <td>19.500</td>\n",
       "      <td>21.5000</td>\n",
       "      <td>30.00</td>\n",
       "    </tr>\n",
       "    <tr>\n",
       "      <td>magnesium</td>\n",
       "      <td>178.0</td>\n",
       "      <td>99.741573</td>\n",
       "      <td>14.282484</td>\n",
       "      <td>70.00</td>\n",
       "      <td>88.0000</td>\n",
       "      <td>98.000</td>\n",
       "      <td>107.0000</td>\n",
       "      <td>162.00</td>\n",
       "    </tr>\n",
       "    <tr>\n",
       "      <td>total_phenols</td>\n",
       "      <td>178.0</td>\n",
       "      <td>2.295112</td>\n",
       "      <td>0.625851</td>\n",
       "      <td>0.98</td>\n",
       "      <td>1.7425</td>\n",
       "      <td>2.355</td>\n",
       "      <td>2.8000</td>\n",
       "      <td>3.88</td>\n",
       "    </tr>\n",
       "    <tr>\n",
       "      <td>flavanoids</td>\n",
       "      <td>178.0</td>\n",
       "      <td>2.029270</td>\n",
       "      <td>0.998859</td>\n",
       "      <td>0.34</td>\n",
       "      <td>1.2050</td>\n",
       "      <td>2.135</td>\n",
       "      <td>2.8750</td>\n",
       "      <td>5.08</td>\n",
       "    </tr>\n",
       "    <tr>\n",
       "      <td>nonflavanoid_phenols</td>\n",
       "      <td>178.0</td>\n",
       "      <td>0.361854</td>\n",
       "      <td>0.124453</td>\n",
       "      <td>0.13</td>\n",
       "      <td>0.2700</td>\n",
       "      <td>0.340</td>\n",
       "      <td>0.4375</td>\n",
       "      <td>0.66</td>\n",
       "    </tr>\n",
       "    <tr>\n",
       "      <td>proanthocyanins</td>\n",
       "      <td>178.0</td>\n",
       "      <td>1.590899</td>\n",
       "      <td>0.572359</td>\n",
       "      <td>0.41</td>\n",
       "      <td>1.2500</td>\n",
       "      <td>1.555</td>\n",
       "      <td>1.9500</td>\n",
       "      <td>3.58</td>\n",
       "    </tr>\n",
       "    <tr>\n",
       "      <td>color_intensity</td>\n",
       "      <td>178.0</td>\n",
       "      <td>5.058090</td>\n",
       "      <td>2.318286</td>\n",
       "      <td>1.28</td>\n",
       "      <td>3.2200</td>\n",
       "      <td>4.690</td>\n",
       "      <td>6.2000</td>\n",
       "      <td>13.00</td>\n",
       "    </tr>\n",
       "    <tr>\n",
       "      <td>hue</td>\n",
       "      <td>178.0</td>\n",
       "      <td>0.957449</td>\n",
       "      <td>0.228572</td>\n",
       "      <td>0.48</td>\n",
       "      <td>0.7825</td>\n",
       "      <td>0.965</td>\n",
       "      <td>1.1200</td>\n",
       "      <td>1.71</td>\n",
       "    </tr>\n",
       "    <tr>\n",
       "      <td>od280/od315_of_diluted_wines</td>\n",
       "      <td>178.0</td>\n",
       "      <td>2.611685</td>\n",
       "      <td>0.709990</td>\n",
       "      <td>1.27</td>\n",
       "      <td>1.9375</td>\n",
       "      <td>2.780</td>\n",
       "      <td>3.1700</td>\n",
       "      <td>4.00</td>\n",
       "    </tr>\n",
       "    <tr>\n",
       "      <td>proline</td>\n",
       "      <td>178.0</td>\n",
       "      <td>746.893258</td>\n",
       "      <td>314.907474</td>\n",
       "      <td>278.00</td>\n",
       "      <td>500.5000</td>\n",
       "      <td>673.500</td>\n",
       "      <td>985.0000</td>\n",
       "      <td>1680.00</td>\n",
       "    </tr>\n",
       "    <tr>\n",
       "      <td>target</td>\n",
       "      <td>178.0</td>\n",
       "      <td>0.938202</td>\n",
       "      <td>0.775035</td>\n",
       "      <td>0.00</td>\n",
       "      <td>0.0000</td>\n",
       "      <td>1.000</td>\n",
       "      <td>2.0000</td>\n",
       "      <td>2.00</td>\n",
       "    </tr>\n",
       "  </tbody>\n",
       "</table>\n",
       "</div>"
      ],
      "text/plain": [
       "                              count        mean         std     min       25%  \\\n",
       "alcohol                       178.0   13.000618    0.811827   11.03   12.3625   \n",
       "malic_acid                    178.0    2.336348    1.117146    0.74    1.6025   \n",
       "ash                           178.0    2.366517    0.274344    1.36    2.2100   \n",
       "alcalinity_of_ash             178.0   19.494944    3.339564   10.60   17.2000   \n",
       "magnesium                     178.0   99.741573   14.282484   70.00   88.0000   \n",
       "total_phenols                 178.0    2.295112    0.625851    0.98    1.7425   \n",
       "flavanoids                    178.0    2.029270    0.998859    0.34    1.2050   \n",
       "nonflavanoid_phenols          178.0    0.361854    0.124453    0.13    0.2700   \n",
       "proanthocyanins               178.0    1.590899    0.572359    0.41    1.2500   \n",
       "color_intensity               178.0    5.058090    2.318286    1.28    3.2200   \n",
       "hue                           178.0    0.957449    0.228572    0.48    0.7825   \n",
       "od280/od315_of_diluted_wines  178.0    2.611685    0.709990    1.27    1.9375   \n",
       "proline                       178.0  746.893258  314.907474  278.00  500.5000   \n",
       "target                        178.0    0.938202    0.775035    0.00    0.0000   \n",
       "\n",
       "                                  50%       75%      max  \n",
       "alcohol                        13.050   13.6775    14.83  \n",
       "malic_acid                      1.865    3.0825     5.80  \n",
       "ash                             2.360    2.5575     3.23  \n",
       "alcalinity_of_ash              19.500   21.5000    30.00  \n",
       "magnesium                      98.000  107.0000   162.00  \n",
       "total_phenols                   2.355    2.8000     3.88  \n",
       "flavanoids                      2.135    2.8750     5.08  \n",
       "nonflavanoid_phenols            0.340    0.4375     0.66  \n",
       "proanthocyanins                 1.555    1.9500     3.58  \n",
       "color_intensity                 4.690    6.2000    13.00  \n",
       "hue                             0.965    1.1200     1.71  \n",
       "od280/od315_of_diluted_wines    2.780    3.1700     4.00  \n",
       "proline                       673.500  985.0000  1680.00  \n",
       "target                          1.000    2.0000     2.00  "
      ]
     },
     "execution_count": 6,
     "metadata": {},
     "output_type": "execute_result"
    }
   ],
   "source": [
    "data.describe().T"
   ]
  },
  {
   "cell_type": "code",
   "execution_count": 7,
   "metadata": {},
   "outputs": [
    {
     "data": {
      "text/plain": [
       "alcohol                         0\n",
       "malic_acid                      0\n",
       "ash                             0\n",
       "alcalinity_of_ash               0\n",
       "magnesium                       0\n",
       "total_phenols                   0\n",
       "flavanoids                      0\n",
       "nonflavanoid_phenols            0\n",
       "proanthocyanins                 0\n",
       "color_intensity                 0\n",
       "hue                             0\n",
       "od280/od315_of_diluted_wines    0\n",
       "proline                         0\n",
       "target                          0\n",
       "dtype: int64"
      ]
     },
     "execution_count": 7,
     "metadata": {},
     "output_type": "execute_result"
    }
   ],
   "source": [
    "data.isna().sum()"
   ]
  },
  {
   "cell_type": "code",
   "execution_count": 8,
   "metadata": {},
   "outputs": [
    {
     "data": {
      "text/plain": [
       "1    71\n",
       "0    59\n",
       "2    48\n",
       "Name: target, dtype: int64"
      ]
     },
     "execution_count": 8,
     "metadata": {},
     "output_type": "execute_result"
    }
   ],
   "source": [
    "data['target'].value_counts()"
   ]
  },
  {
   "cell_type": "markdown",
   "metadata": {},
   "source": [
    "### Visualisation"
   ]
  },
  {
   "cell_type": "code",
   "execution_count": 9,
   "metadata": {},
   "outputs": [
    {
     "data": {
      "text/plain": [
       "<matplotlib.axes._subplots.AxesSubplot at 0x10a5f2f90>"
      ]
     },
     "execution_count": 9,
     "metadata": {},
     "output_type": "execute_result"
    },
    {
     "data": {
      "image/png": "[encoded data removed]",
      "text/plain": [
       "<Figure size 432x288 with 1 Axes>"
      ]
     },
     "metadata": {
      "needs_background": "light"
     },
     "output_type": "display_data"
    }
   ],
   "source": [
    "sns.distplot(data['alcohol'],kde=1)"
   ]
  },
  {
   "cell_type": "markdown",
   "metadata": {},
   "source": [
    "Alcohol content in each class "
   ]
  },
  {
   "cell_type": "code",
   "execution_count": 10,
   "metadata": {},
   "outputs": [
    {
     "data": {
      "image/png": "[encoded data removed]",
      "text/plain": [
       "<Figure size 576x432 with 1 Axes>"
      ]
     },
     "metadata": {
      "needs_background": "light"
     },
     "output_type": "display_data"
    }
   ],
   "source": [
    "plt.figure(figsize=(8, 6))\n",
    "\n",
    "sns.boxplot('target', 'alcohol', data = data)\n",
    "\n",
    "plt.xlabel('class', fontsize = 20)\n",
    "plt.ylabel('alcohol', fontsize = 20)\n",
    "\n",
    "plt.show()"
   ]
  },
  {
   "cell_type": "code",
   "execution_count": 11,
   "metadata": {},
   "outputs": [
    {
     "data": {
      "image/png": "[encoded data removed]",
      "text/plain": [
       "<Figure size 576x432 with 1 Axes>"
      ]
     },
     "metadata": {
      "needs_background": "light"
     },
     "output_type": "display_data"
    }
   ],
   "source": [
    "plt.figure(figsize=(8, 6))\n",
    "\n",
    "sns.boxplot('target', 'magnesium', data = data)\n",
    "\n",
    "plt.xlabel('class', fontsize = 20)\n",
    "plt.ylabel('magnesium', fontsize = 20)\n",
    "\n",
    "plt.show()"
   ]
  },
  {
   "cell_type": "markdown",
   "metadata": {},
   "source": [
    "### Splitting the data"
   ]
  },
  {
   "cell_type": "code",
   "execution_count": 12,
   "metadata": {},
   "outputs": [],
   "source": [
    "features = data.drop('target', axis=1)\n",
    "\n",
    "target = data[['target']]"
   ]
  },
  {
   "cell_type": "code",
   "execution_count": 13,
   "metadata": {},
   "outputs": [
    {
     "data": {
      "text/plain": [
       "Index(['alcohol', 'malic_acid', 'ash', 'alcalinity_of_ash', 'magnesium',\n",
       "       'total_phenols', 'flavanoids', 'nonflavanoid_phenols',\n",
       "       'proanthocyanins', 'color_intensity', 'hue',\n",
       "       'od280/od315_of_diluted_wines', 'proline'],\n",
       "      dtype='object')"
      ]
     },
     "execution_count": 13,
     "metadata": {},
     "output_type": "execute_result"
    }
   ],
   "source": [
    "features.columns"
   ]
  },
  {
   "cell_type": "code",
   "execution_count": 14,
   "metadata": {},
   "outputs": [
    {
     "data": {
      "text/html": [
       "<div>\n",
       "<style scoped>\n",
       "    .dataframe tbody tr th:only-of-type {\n",
       "        vertical-align: middle;\n",
       "    }\n",
       "\n",
       "    .dataframe tbody tr th {\n",
       "        vertical-align: top;\n",
       "    }\n",
       "\n",
       "    .dataframe thead th {\n",
       "        text-align: right;\n",
       "    }\n",
       "</style>\n",
       "<table border=\"1\" class=\"dataframe\">\n",
       "  <thead>\n",
       "    <tr style=\"text-align: right;\">\n",
       "      <th></th>\n",
       "      <th>target</th>\n",
       "    </tr>\n",
       "  </thead>\n",
       "  <tbody>\n",
       "    <tr>\n",
       "      <td>168</td>\n",
       "      <td>2</td>\n",
       "    </tr>\n",
       "    <tr>\n",
       "      <td>139</td>\n",
       "      <td>2</td>\n",
       "    </tr>\n",
       "    <tr>\n",
       "      <td>31</td>\n",
       "      <td>0</td>\n",
       "    </tr>\n",
       "    <tr>\n",
       "      <td>43</td>\n",
       "      <td>0</td>\n",
       "    </tr>\n",
       "    <tr>\n",
       "      <td>142</td>\n",
       "      <td>2</td>\n",
       "    </tr>\n",
       "  </tbody>\n",
       "</table>\n",
       "</div>"
      ],
      "text/plain": [
       "     target\n",
       "168       2\n",
       "139       2\n",
       "31        0\n",
       "43        0\n",
       "142       2"
      ]
     },
     "execution_count": 14,
     "metadata": {},
     "output_type": "execute_result"
    }
   ],
   "source": [
    "target.sample(5)"
   ]
  },
  {
   "cell_type": "code",
   "execution_count": 15,
   "metadata": {},
   "outputs": [
    {
     "data": {
      "text/plain": [
       "array([[1., 0., 0.],\n",
       "       [1., 0., 0.],\n",
       "       [1., 0., 0.],\n",
       "       [1., 0., 0.],\n",
       "       [1., 0., 0.],\n",
       "       [1., 0., 0.],\n",
       "       [1., 0., 0.],\n",
       "       [1., 0., 0.],\n",
       "       [1., 0., 0.],\n",
       "       [1., 0., 0.],\n",
       "       [1., 0., 0.],\n",
       "       [1., 0., 0.],\n",
       "       [1., 0., 0.],\n",
       "       [1., 0., 0.],\n",
       "       [1., 0., 0.],\n",
       "       [1., 0., 0.],\n",
       "       [1., 0., 0.],\n",
       "       [1., 0., 0.],\n",
       "       [1., 0., 0.],\n",
       "       [1., 0., 0.],\n",
       "       [1., 0., 0.],\n",
       "       [1., 0., 0.],\n",
       "       [1., 0., 0.],\n",
       "       [1., 0., 0.],\n",
       "       [1., 0., 0.],\n",
       "       [1., 0., 0.],\n",
       "       [1., 0., 0.],\n",
       "       [1., 0., 0.],\n",
       "       [1., 0., 0.],\n",
       "       [1., 0., 0.],\n",
       "       [1., 0., 0.],\n",
       "       [1., 0., 0.],\n",
       "       [1., 0., 0.],\n",
       "       [1., 0., 0.],\n",
       "       [1., 0., 0.],\n",
       "       [1., 0., 0.],\n",
       "       [1., 0., 0.],\n",
       "       [1., 0., 0.],\n",
       "       [1., 0., 0.],\n",
       "       [1., 0., 0.],\n",
       "       [1., 0., 0.],\n",
       "       [1., 0., 0.],\n",
       "       [1., 0., 0.],\n",
       "       [1., 0., 0.],\n",
       "       [1., 0., 0.],\n",
       "       [1., 0., 0.],\n",
       "       [1., 0., 0.],\n",
       "       [1., 0., 0.],\n",
       "       [1., 0., 0.],\n",
       "       [1., 0., 0.],\n",
       "       [1., 0., 0.],\n",
       "       [1., 0., 0.],\n",
       "       [1., 0., 0.],\n",
       "       [1., 0., 0.],\n",
       "       [1., 0., 0.],\n",
       "       [1., 0., 0.],\n",
       "       [1., 0., 0.],\n",
       "       [1., 0., 0.],\n",
       "       [1., 0., 0.],\n",
       "       [0., 1., 0.],\n",
       "       [0., 1., 0.],\n",
       "       [0., 1., 0.],\n",
       "       [0., 1., 0.],\n",
       "       [0., 1., 0.],\n",
       "       [0., 1., 0.],\n",
       "       [0., 1., 0.],\n",
       "       [0., 1., 0.],\n",
       "       [0., 1., 0.],\n",
       "       [0., 1., 0.],\n",
       "       [0., 1., 0.],\n",
       "       [0., 1., 0.],\n",
       "       [0., 1., 0.],\n",
       "       [0., 1., 0.],\n",
       "       [0., 1., 0.],\n",
       "       [0., 1., 0.],\n",
       "       [0., 1., 0.],\n",
       "       [0., 1., 0.],\n",
       "       [0., 1., 0.],\n",
       "       [0., 1., 0.],\n",
       "       [0., 1., 0.],\n",
       "       [0., 1., 0.],\n",
       "       [0., 1., 0.],\n",
       "       [0., 1., 0.],\n",
       "       [0., 1., 0.],\n",
       "       [0., 1., 0.],\n",
       "       [0., 1., 0.],\n",
       "       [0., 1., 0.],\n",
       "       [0., 1., 0.],\n",
       "       [0., 1., 0.],\n",
       "       [0., 1., 0.],\n",
       "       [0., 1., 0.],\n",
       "       [0., 1., 0.],\n",
       "       [0., 1., 0.],\n",
       "       [0., 1., 0.],\n",
       "       [0., 1., 0.],\n",
       "       [0., 1., 0.],\n",
       "       [0., 1., 0.],\n",
       "       [0., 1., 0.],\n",
       "       [0., 1., 0.],\n",
       "       [0., 1., 0.],\n",
       "       [0., 1., 0.],\n",
       "       [0., 1., 0.],\n",
       "       [0., 1., 0.],\n",
       "       [0., 1., 0.],\n",
       "       [0., 1., 0.],\n",
       "       [0., 1., 0.],\n",
       "       [0., 1., 0.],\n",
       "       [0., 1., 0.],\n",
       "       [0., 1., 0.],\n",
       "       [0., 1., 0.],\n",
       "       [0., 1., 0.],\n",
       "       [0., 1., 0.],\n",
       "       [0., 1., 0.],\n",
       "       [0., 1., 0.],\n",
       "       [0., 1., 0.],\n",
       "       [0., 1., 0.],\n",
       "       [0., 1., 0.],\n",
       "       [0., 1., 0.],\n",
       "       [0., 1., 0.],\n",
       "       [0., 1., 0.],\n",
       "       [0., 1., 0.],\n",
       "       [0., 1., 0.],\n",
       "       [0., 1., 0.],\n",
       "       [0., 1., 0.],\n",
       "       [0., 1., 0.],\n",
       "       [0., 1., 0.],\n",
       "       [0., 1., 0.],\n",
       "       [0., 1., 0.],\n",
       "       [0., 1., 0.],\n",
       "       [0., 1., 0.],\n",
       "       [0., 0., 1.],\n",
       "       [0., 0., 1.],\n",
       "       [0., 0., 1.],\n",
       "       [0., 0., 1.],\n",
       "       [0., 0., 1.],\n",
       "       [0., 0., 1.],\n",
       "       [0., 0., 1.],\n",
       "       [0., 0., 1.],\n",
       "       [0., 0., 1.],\n",
       "       [0., 0., 1.],\n",
       "       [0., 0., 1.],\n",
       "       [0., 0., 1.],\n",
       "       [0., 0., 1.],\n",
       "       [0., 0., 1.],\n",
       "       [0., 0., 1.],\n",
       "       [0., 0., 1.],\n",
       "       [0., 0., 1.],\n",
       "       [0., 0., 1.],\n",
       "       [0., 0., 1.],\n",
       "       [0., 0., 1.],\n",
       "       [0., 0., 1.],\n",
       "       [0., 0., 1.],\n",
       "       [0., 0., 1.],\n",
       "       [0., 0., 1.],\n",
       "       [0., 0., 1.],\n",
       "       [0., 0., 1.],\n",
       "       [0., 0., 1.],\n",
       "       [0., 0., 1.],\n",
       "       [0., 0., 1.],\n",
       "       [0., 0., 1.],\n",
       "       [0., 0., 1.],\n",
       "       [0., 0., 1.],\n",
       "       [0., 0., 1.],\n",
       "       [0., 0., 1.],\n",
       "       [0., 0., 1.],\n",
       "       [0., 0., 1.],\n",
       "       [0., 0., 1.],\n",
       "       [0., 0., 1.],\n",
       "       [0., 0., 1.],\n",
       "       [0., 0., 1.],\n",
       "       [0., 0., 1.],\n",
       "       [0., 0., 1.],\n",
       "       [0., 0., 1.],\n",
       "       [0., 0., 1.],\n",
       "       [0., 0., 1.],\n",
       "       [0., 0., 1.],\n",
       "       [0., 0., 1.],\n",
       "       [0., 0., 1.]], dtype=float32)"
      ]
     },
     "execution_count": 15,
     "metadata": {},
     "output_type": "execute_result"
    }
   ],
   "source": [
    "target = to_categorical(target, 3)\n",
    "\n",
    "target"
   ]
  },
  {
   "cell_type": "code",
   "execution_count": 16,
   "metadata": {},
   "outputs": [
    {
     "data": {
      "text/html": [
       "<div>\n",
       "<style scoped>\n",
       "    .dataframe tbody tr th:only-of-type {\n",
       "        vertical-align: middle;\n",
       "    }\n",
       "\n",
       "    .dataframe tbody tr th {\n",
       "        vertical-align: top;\n",
       "    }\n",
       "\n",
       "    .dataframe thead th {\n",
       "        text-align: right;\n",
       "    }\n",
       "</style>\n",
       "<table border=\"1\" class=\"dataframe\">\n",
       "  <thead>\n",
       "    <tr style=\"text-align: right;\">\n",
       "      <th></th>\n",
       "      <th>count</th>\n",
       "      <th>mean</th>\n",
       "      <th>std</th>\n",
       "      <th>min</th>\n",
       "      <th>25%</th>\n",
       "      <th>50%</th>\n",
       "      <th>75%</th>\n",
       "      <th>max</th>\n",
       "    </tr>\n",
       "  </thead>\n",
       "  <tbody>\n",
       "    <tr>\n",
       "      <td>alcohol</td>\n",
       "      <td>178.0</td>\n",
       "      <td>7.841418e-15</td>\n",
       "      <td>1.002821</td>\n",
       "      <td>-2.434235</td>\n",
       "      <td>-0.788245</td>\n",
       "      <td>0.061000</td>\n",
       "      <td>0.836129</td>\n",
       "      <td>2.259772</td>\n",
       "    </tr>\n",
       "    <tr>\n",
       "      <td>malic_acid</td>\n",
       "      <td>178.0</td>\n",
       "      <td>2.444986e-16</td>\n",
       "      <td>1.002821</td>\n",
       "      <td>-1.432983</td>\n",
       "      <td>-0.658749</td>\n",
       "      <td>-0.423112</td>\n",
       "      <td>0.669793</td>\n",
       "      <td>3.109192</td>\n",
       "    </tr>\n",
       "    <tr>\n",
       "      <td>ash</td>\n",
       "      <td>178.0</td>\n",
       "      <td>-4.059175e-15</td>\n",
       "      <td>1.002821</td>\n",
       "      <td>-3.679162</td>\n",
       "      <td>-0.572122</td>\n",
       "      <td>-0.023821</td>\n",
       "      <td>0.698109</td>\n",
       "      <td>3.156325</td>\n",
       "    </tr>\n",
       "    <tr>\n",
       "      <td>alcalinity_of_ash</td>\n",
       "      <td>178.0</td>\n",
       "      <td>-7.110417e-17</td>\n",
       "      <td>1.002821</td>\n",
       "      <td>-2.671018</td>\n",
       "      <td>-0.689137</td>\n",
       "      <td>0.001518</td>\n",
       "      <td>0.602088</td>\n",
       "      <td>3.154511</td>\n",
       "    </tr>\n",
       "    <tr>\n",
       "      <td>magnesium</td>\n",
       "      <td>178.0</td>\n",
       "      <td>-2.494883e-17</td>\n",
       "      <td>1.002821</td>\n",
       "      <td>-2.088255</td>\n",
       "      <td>-0.824415</td>\n",
       "      <td>-0.122282</td>\n",
       "      <td>0.509638</td>\n",
       "      <td>4.371372</td>\n",
       "    </tr>\n",
       "    <tr>\n",
       "      <td>total_phenols</td>\n",
       "      <td>178.0</td>\n",
       "      <td>-1.955365e-16</td>\n",
       "      <td>1.002821</td>\n",
       "      <td>-2.107246</td>\n",
       "      <td>-0.885468</td>\n",
       "      <td>0.095960</td>\n",
       "      <td>0.808997</td>\n",
       "      <td>2.539515</td>\n",
       "    </tr>\n",
       "    <tr>\n",
       "      <td>flavanoids</td>\n",
       "      <td>178.0</td>\n",
       "      <td>9.443133e-16</td>\n",
       "      <td>1.002821</td>\n",
       "      <td>-1.695971</td>\n",
       "      <td>-0.827539</td>\n",
       "      <td>0.106150</td>\n",
       "      <td>0.849085</td>\n",
       "      <td>3.062832</td>\n",
       "    </tr>\n",
       "    <tr>\n",
       "      <td>nonflavanoid_phenols</td>\n",
       "      <td>178.0</td>\n",
       "      <td>-4.178929e-16</td>\n",
       "      <td>1.002821</td>\n",
       "      <td>-1.868234</td>\n",
       "      <td>-0.740141</td>\n",
       "      <td>-0.176095</td>\n",
       "      <td>0.609541</td>\n",
       "      <td>2.402403</td>\n",
       "    </tr>\n",
       "    <tr>\n",
       "      <td>proanthocyanins</td>\n",
       "      <td>178.0</td>\n",
       "      <td>-1.540590e-15</td>\n",
       "      <td>1.002821</td>\n",
       "      <td>-2.069034</td>\n",
       "      <td>-0.597284</td>\n",
       "      <td>-0.062898</td>\n",
       "      <td>0.629175</td>\n",
       "      <td>3.485073</td>\n",
       "    </tr>\n",
       "    <tr>\n",
       "      <td>color_intensity</td>\n",
       "      <td>178.0</td>\n",
       "      <td>-4.129032e-16</td>\n",
       "      <td>1.002821</td>\n",
       "      <td>-1.634288</td>\n",
       "      <td>-0.795103</td>\n",
       "      <td>-0.159225</td>\n",
       "      <td>0.493956</td>\n",
       "      <td>3.435432</td>\n",
       "    </tr>\n",
       "    <tr>\n",
       "      <td>hue</td>\n",
       "      <td>178.0</td>\n",
       "      <td>1.398382e-15</td>\n",
       "      <td>1.002821</td>\n",
       "      <td>-2.094732</td>\n",
       "      <td>-0.767562</td>\n",
       "      <td>0.033127</td>\n",
       "      <td>0.713164</td>\n",
       "      <td>3.301694</td>\n",
       "    </tr>\n",
       "    <tr>\n",
       "      <td>od280/od315_of_diluted_wines</td>\n",
       "      <td>178.0</td>\n",
       "      <td>2.126888e-15</td>\n",
       "      <td>1.002821</td>\n",
       "      <td>-1.895054</td>\n",
       "      <td>-0.952248</td>\n",
       "      <td>0.237735</td>\n",
       "      <td>0.788587</td>\n",
       "      <td>1.960915</td>\n",
       "    </tr>\n",
       "    <tr>\n",
       "      <td>proline</td>\n",
       "      <td>178.0</td>\n",
       "      <td>-6.985673e-17</td>\n",
       "      <td>1.002821</td>\n",
       "      <td>-1.493188</td>\n",
       "      <td>-0.784638</td>\n",
       "      <td>-0.233720</td>\n",
       "      <td>0.758249</td>\n",
       "      <td>2.971473</td>\n",
       "    </tr>\n",
       "  </tbody>\n",
       "</table>\n",
       "</div>"
      ],
      "text/plain": [
       "                              count          mean       std       min  \\\n",
       "alcohol                       178.0  7.841418e-15  1.002821 -2.434235   \n",
       "malic_acid                    178.0  2.444986e-16  1.002821 -1.432983   \n",
       "ash                           178.0 -4.059175e-15  1.002821 -3.679162   \n",
       "alcalinity_of_ash             178.0 -7.110417e-17  1.002821 -2.671018   \n",
       "magnesium                     178.0 -2.494883e-17  1.002821 -2.088255   \n",
       "total_phenols                 178.0 -1.955365e-16  1.002821 -2.107246   \n",
       "flavanoids                    178.0  9.443133e-16  1.002821 -1.695971   \n",
       "nonflavanoid_phenols          178.0 -4.178929e-16  1.002821 -1.868234   \n",
       "proanthocyanins               178.0 -1.540590e-15  1.002821 -2.069034   \n",
       "color_intensity               178.0 -4.129032e-16  1.002821 -1.634288   \n",
       "hue                           178.0  1.398382e-15  1.002821 -2.094732   \n",
       "od280/od315_of_diluted_wines  178.0  2.126888e-15  1.002821 -1.895054   \n",
       "proline                       178.0 -6.985673e-17  1.002821 -1.493188   \n",
       "\n",
       "                                   25%       50%       75%       max  \n",
       "alcohol                      -0.788245  0.061000  0.836129  2.259772  \n",
       "malic_acid                   -0.658749 -0.423112  0.669793  3.109192  \n",
       "ash                          -0.572122 -0.023821  0.698109  3.156325  \n",
       "alcalinity_of_ash            -0.689137  0.001518  0.602088  3.154511  \n",
       "magnesium                    -0.824415 -0.122282  0.509638  4.371372  \n",
       "total_phenols                -0.885468  0.095960  0.808997  2.539515  \n",
       "flavanoids                   -0.827539  0.106150  0.849085  3.062832  \n",
       "nonflavanoid_phenols         -0.740141 -0.176095  0.609541  2.402403  \n",
       "proanthocyanins              -0.597284 -0.062898  0.629175  3.485073  \n",
       "color_intensity              -0.795103 -0.159225  0.493956  3.435432  \n",
       "hue                          -0.767562  0.033127  0.713164  3.301694  \n",
       "od280/od315_of_diluted_wines -0.952248  0.237735  0.788587  1.960915  \n",
       "proline                      -0.784638 -0.233720  0.758249  2.971473  "
      ]
     },
     "execution_count": 16,
     "metadata": {},
     "output_type": "execute_result"
    }
   ],
   "source": [
    "standardScaler = StandardScaler()\n",
    "\n",
    "processed_features = pd.DataFrame(standardScaler.fit_transform(features), \n",
    "                                columns=features.columns,\n",
    "                                index=features.index)\n",
    "\n",
    "processed_features.describe().T"
   ]
  },
  {
   "cell_type": "markdown",
   "metadata": {},
   "source": [
    "### Splitting dataset"
   ]
  },
  {
   "cell_type": "code",
   "execution_count": 17,
   "metadata": {},
   "outputs": [],
   "source": [
    "from sklearn.model_selection import train_test_split\n",
    "\n",
    "x_train, x_test, y_train, y_test = train_test_split(processed_features, \n",
    "                                                    target, \n",
    "                                                    test_size = 0.2, \n",
    "                                                    random_state=1)"
   ]
  },
  {
   "cell_type": "code",
   "execution_count": 18,
   "metadata": {},
   "outputs": [
    {
     "data": {
      "text/plain": [
       "((142, 13), (142, 3))"
      ]
     },
     "execution_count": 18,
     "metadata": {},
     "output_type": "execute_result"
    }
   ],
   "source": [
    "x_train.shape, y_train.shape"
   ]
  },
  {
   "cell_type": "code",
   "execution_count": 19,
   "metadata": {},
   "outputs": [
    {
     "data": {
      "text/plain": [
       "((36, 13), (36, 3))"
      ]
     },
     "execution_count": 19,
     "metadata": {},
     "output_type": "execute_result"
    }
   ],
   "source": [
    "x_test.shape, y_test.shape"
   ]
  },
  {
   "cell_type": "markdown",
   "metadata": {},
   "source": [
    "### Building the model"
   ]
  },
  {
   "cell_type": "code",
   "execution_count": 20,
   "metadata": {},
   "outputs": [],
   "source": [
    "class WineClassificationModel(Model):\n",
    "    \n",
    "    def __init__(self, input_shape):\n",
    "        \n",
    "        super(WineClassificationModel, self).__init__()\n",
    "\n",
    "        self.d1 = layers.Dense(128, activation = 'relu', input_shape = [input_shape])\n",
    "        self.d2 = layers.Dense(64, activation = 'relu')\n",
    "        \n",
    "        self.d3 = layers.Dense(3, activation = 'softmax')\n",
    "\n",
    "    def call(self, x):\n",
    "        \n",
    "        x = self.d1(x)\n",
    "        x = self.d2(x)\n",
    "\n",
    "        x = self.d3(x)\n",
    "        \n",
    "        return x"
   ]
  },
  {
   "cell_type": "code",
   "execution_count": 21,
   "metadata": {},
   "outputs": [],
   "source": [
    "model = WineClassificationModel(x_train.shape[1])\n",
    "\n",
    "model.compile(optimizer = keras.optimizers.SGD(lr = 0.001),\n",
    "             loss = tf.keras.losses.CategoricalCrossentropy(),\n",
    "             metrics = ['accuracy'])"
   ]
  },
  {
   "cell_type": "code",
   "execution_count": 28,
   "metadata": {},
   "outputs": [],
   "source": [
    "num_epochs = 100"
   ]
  },
  {
   "cell_type": "code",
   "execution_count": 25,
   "metadata": {
    "scrolled": true
   },
   "outputs": [
    {
     "name": "stdout",
     "output_type": "stream",
     "text": [
      "Train on 113 samples, validate on 29 samples\n",
      "Epoch 1/100\n",
      "113/113 [==============================] - 0s 576us/sample - loss: 0.7620 - accuracy: 0.7965 - val_loss: 0.9163 - val_accuracy: 0.6207\n",
      "Epoch 2/100\n",
      "113/113 [==============================] - 0s 323us/sample - loss: 0.7585 - accuracy: 0.7965 - val_loss: 0.9129 - val_accuracy: 0.6207\n",
      "Epoch 3/100\n",
      "113/113 [==============================] - 0s 233us/sample - loss: 0.7550 - accuracy: 0.8142 - val_loss: 0.9093 - val_accuracy: 0.6207\n",
      "Epoch 4/100\n",
      "113/113 [==============================] - 0s 323us/sample - loss: 0.7516 - accuracy: 0.8230 - val_loss: 0.9053 - val_accuracy: 0.6207\n",
      "Epoch 5/100\n",
      "113/113 [==============================] - 0s 186us/sample - loss: 0.7480 - accuracy: 0.8230 - val_loss: 0.9018 - val_accuracy: 0.6207\n",
      "Epoch 6/100\n",
      "113/113 [==============================] - 0s 228us/sample - loss: 0.7447 - accuracy: 0.8319 - val_loss: 0.8983 - val_accuracy: 0.6207\n",
      "Epoch 7/100\n",
      "113/113 [==============================] - 0s 159us/sample - loss: 0.7413 - accuracy: 0.8319 - val_loss: 0.8952 - val_accuracy: 0.6207\n",
      "Epoch 8/100\n",
      "113/113 [==============================] - 0s 191us/sample - loss: 0.7381 - accuracy: 0.8407 - val_loss: 0.8917 - val_accuracy: 0.6207\n",
      "Epoch 9/100\n",
      "113/113 [==============================] - 0s 202us/sample - loss: 0.7347 - accuracy: 0.8496 - val_loss: 0.8884 - val_accuracy: 0.6207\n",
      "Epoch 10/100\n",
      "113/113 [==============================] - 0s 217us/sample - loss: 0.7315 - accuracy: 0.8496 - val_loss: 0.8851 - val_accuracy: 0.6207\n",
      "Epoch 11/100\n",
      "113/113 [==============================] - 0s 205us/sample - loss: 0.7283 - accuracy: 0.8496 - val_loss: 0.8819 - val_accuracy: 0.6207\n",
      "Epoch 12/100\n",
      "113/113 [==============================] - 0s 175us/sample - loss: 0.7251 - accuracy: 0.8496 - val_loss: 0.8787 - val_accuracy: 0.6207\n",
      "Epoch 13/100\n",
      "113/113 [==============================] - 0s 188us/sample - loss: 0.7220 - accuracy: 0.8496 - val_loss: 0.8752 - val_accuracy: 0.6207\n",
      "Epoch 14/100\n",
      "113/113 [==============================] - 0s 172us/sample - loss: 0.7187 - accuracy: 0.8496 - val_loss: 0.8720 - val_accuracy: 0.6207\n",
      "Epoch 15/100\n",
      "113/113 [==============================] - 0s 177us/sample - loss: 0.7156 - accuracy: 0.8584 - val_loss: 0.8688 - val_accuracy: 0.6207\n",
      "Epoch 16/100\n",
      "113/113 [==============================] - 0s 187us/sample - loss: 0.7125 - accuracy: 0.8584 - val_loss: 0.8657 - val_accuracy: 0.6207\n",
      "Epoch 17/100\n",
      "113/113 [==============================] - 0s 165us/sample - loss: 0.7093 - accuracy: 0.8673 - val_loss: 0.8625 - val_accuracy: 0.6207\n",
      "Epoch 18/100\n",
      "113/113 [==============================] - 0s 185us/sample - loss: 0.7062 - accuracy: 0.8761 - val_loss: 0.8591 - val_accuracy: 0.6207\n",
      "Epoch 19/100\n",
      "113/113 [==============================] - 0s 320us/sample - loss: 0.7030 - accuracy: 0.8761 - val_loss: 0.8561 - val_accuracy: 0.6207\n",
      "Epoch 20/100\n",
      "113/113 [==============================] - 0s 818us/sample - loss: 0.7000 - accuracy: 0.8761 - val_loss: 0.8527 - val_accuracy: 0.6552\n",
      "Epoch 21/100\n",
      "113/113 [==============================] - 0s 280us/sample - loss: 0.6968 - accuracy: 0.8761 - val_loss: 0.8494 - val_accuracy: 0.6552\n",
      "Epoch 22/100\n",
      "113/113 [==============================] - 0s 311us/sample - loss: 0.6938 - accuracy: 0.8761 - val_loss: 0.8462 - val_accuracy: 0.6552\n",
      "Epoch 23/100\n",
      "113/113 [==============================] - 0s 246us/sample - loss: 0.6908 - accuracy: 0.8761 - val_loss: 0.8433 - val_accuracy: 0.6552\n",
      "Epoch 24/100\n",
      "113/113 [==============================] - 0s 234us/sample - loss: 0.6879 - accuracy: 0.8850 - val_loss: 0.8407 - val_accuracy: 0.6552\n",
      "Epoch 25/100\n",
      "113/113 [==============================] - 0s 314us/sample - loss: 0.6850 - accuracy: 0.8850 - val_loss: 0.8369 - val_accuracy: 0.6552\n",
      "Epoch 26/100\n",
      "113/113 [==============================] - 0s 368us/sample - loss: 0.6818 - accuracy: 0.8850 - val_loss: 0.8341 - val_accuracy: 0.6552\n",
      "Epoch 27/100\n",
      "113/113 [==============================] - 0s 275us/sample - loss: 0.6790 - accuracy: 0.8938 - val_loss: 0.8312 - val_accuracy: 0.6552\n",
      "Epoch 28/100\n",
      "113/113 [==============================] - 0s 306us/sample - loss: 0.6760 - accuracy: 0.8938 - val_loss: 0.8280 - val_accuracy: 0.6552\n",
      "Epoch 29/100\n",
      "113/113 [==============================] - 0s 369us/sample - loss: 0.6732 - accuracy: 0.9027 - val_loss: 0.8249 - val_accuracy: 0.6552\n",
      "Epoch 30/100\n",
      "113/113 [==============================] - 0s 262us/sample - loss: 0.6702 - accuracy: 0.9027 - val_loss: 0.8219 - val_accuracy: 0.6552\n",
      "Epoch 31/100\n",
      "113/113 [==============================] - 0s 216us/sample - loss: 0.6673 - accuracy: 0.9027 - val_loss: 0.8186 - val_accuracy: 0.6552\n",
      "Epoch 32/100\n",
      "113/113 [==============================] - 0s 200us/sample - loss: 0.6643 - accuracy: 0.9027 - val_loss: 0.8156 - val_accuracy: 0.6552\n",
      "Epoch 33/100\n",
      "113/113 [==============================] - 0s 209us/sample - loss: 0.6615 - accuracy: 0.9027 - val_loss: 0.8125 - val_accuracy: 0.6552\n",
      "Epoch 34/100\n",
      "113/113 [==============================] - 0s 211us/sample - loss: 0.6586 - accuracy: 0.9027 - val_loss: 0.8096 - val_accuracy: 0.6552\n",
      "Epoch 35/100\n",
      "113/113 [==============================] - 0s 207us/sample - loss: 0.6558 - accuracy: 0.9027 - val_loss: 0.8067 - val_accuracy: 0.6552\n",
      "Epoch 36/100\n",
      "113/113 [==============================] - 0s 197us/sample - loss: 0.6530 - accuracy: 0.9027 - val_loss: 0.8038 - val_accuracy: 0.6552\n",
      "Epoch 37/100\n",
      "113/113 [==============================] - 0s 183us/sample - loss: 0.6502 - accuracy: 0.9115 - val_loss: 0.8007 - val_accuracy: 0.6897\n",
      "Epoch 38/100\n",
      "113/113 [==============================] - 0s 203us/sample - loss: 0.6474 - accuracy: 0.9115 - val_loss: 0.7980 - val_accuracy: 0.6897\n",
      "Epoch 39/100\n",
      "113/113 [==============================] - 0s 276us/sample - loss: 0.6446 - accuracy: 0.9115 - val_loss: 0.7953 - val_accuracy: 0.6897\n",
      "Epoch 40/100\n",
      "113/113 [==============================] - 0s 221us/sample - loss: 0.6418 - accuracy: 0.9115 - val_loss: 0.7925 - val_accuracy: 0.6897\n",
      "Epoch 41/100\n",
      "113/113 [==============================] - 0s 197us/sample - loss: 0.6391 - accuracy: 0.9115 - val_loss: 0.7894 - val_accuracy: 0.6897\n",
      "Epoch 42/100\n",
      "113/113 [==============================] - 0s 268us/sample - loss: 0.6363 - accuracy: 0.9115 - val_loss: 0.7867 - val_accuracy: 0.7241\n",
      "Epoch 43/100\n",
      "113/113 [==============================] - 0s 219us/sample - loss: 0.6336 - accuracy: 0.9115 - val_loss: 0.7839 - val_accuracy: 0.7241\n",
      "Epoch 44/100\n",
      "113/113 [==============================] - 0s 312us/sample - loss: 0.6308 - accuracy: 0.9115 - val_loss: 0.7808 - val_accuracy: 0.7241\n",
      "Epoch 45/100\n",
      "113/113 [==============================] - 0s 189us/sample - loss: 0.6281 - accuracy: 0.9115 - val_loss: 0.7781 - val_accuracy: 0.7241\n",
      "Epoch 46/100\n",
      "113/113 [==============================] - 0s 213us/sample - loss: 0.6255 - accuracy: 0.9204 - val_loss: 0.7752 - val_accuracy: 0.7241\n",
      "Epoch 47/100\n",
      "113/113 [==============================] - 0s 234us/sample - loss: 0.6228 - accuracy: 0.9292 - val_loss: 0.7721 - val_accuracy: 0.7241\n",
      "Epoch 48/100\n",
      "113/113 [==============================] - 0s 222us/sample - loss: 0.6201 - accuracy: 0.9292 - val_loss: 0.7695 - val_accuracy: 0.7241\n",
      "Epoch 49/100\n",
      "113/113 [==============================] - 0s 200us/sample - loss: 0.6175 - accuracy: 0.9292 - val_loss: 0.7669 - val_accuracy: 0.7241\n",
      "Epoch 50/100\n",
      "113/113 [==============================] - 0s 196us/sample - loss: 0.6150 - accuracy: 0.9292 - val_loss: 0.7643 - val_accuracy: 0.7241\n",
      "Epoch 51/100\n",
      "113/113 [==============================] - 0s 192us/sample - loss: 0.6124 - accuracy: 0.9292 - val_loss: 0.7617 - val_accuracy: 0.7241\n",
      "Epoch 52/100\n",
      "113/113 [==============================] - 0s 191us/sample - loss: 0.6099 - accuracy: 0.9292 - val_loss: 0.7592 - val_accuracy: 0.7241\n",
      "Epoch 53/100\n",
      "113/113 [==============================] - 0s 222us/sample - loss: 0.6073 - accuracy: 0.9292 - val_loss: 0.7562 - val_accuracy: 0.7241\n",
      "Epoch 54/100\n",
      "113/113 [==============================] - 0s 219us/sample - loss: 0.6048 - accuracy: 0.9292 - val_loss: 0.7538 - val_accuracy: 0.7241\n",
      "Epoch 55/100\n",
      "113/113 [==============================] - 0s 137us/sample - loss: 0.6023 - accuracy: 0.9292 - val_loss: 0.7513 - val_accuracy: 0.7241\n",
      "Epoch 56/100\n"
     ]
    },
    {
     "name": "stdout",
     "output_type": "stream",
     "text": [
      "113/113 [==============================] - 0s 237us/sample - loss: 0.5998 - accuracy: 0.9292 - val_loss: 0.7488 - val_accuracy: 0.7241\n",
      "Epoch 57/100\n",
      "113/113 [==============================] - 0s 201us/sample - loss: 0.5974 - accuracy: 0.9292 - val_loss: 0.7464 - val_accuracy: 0.7241\n",
      "Epoch 58/100\n",
      "113/113 [==============================] - 0s 202us/sample - loss: 0.5949 - accuracy: 0.9292 - val_loss: 0.7436 - val_accuracy: 0.7586\n",
      "Epoch 59/100\n",
      "113/113 [==============================] - 0s 216us/sample - loss: 0.5924 - accuracy: 0.9292 - val_loss: 0.7415 - val_accuracy: 0.7586\n",
      "Epoch 60/100\n",
      "113/113 [==============================] - 0s 248us/sample - loss: 0.5900 - accuracy: 0.9292 - val_loss: 0.7392 - val_accuracy: 0.7586\n",
      "Epoch 61/100\n",
      "113/113 [==============================] - 0s 201us/sample - loss: 0.5876 - accuracy: 0.9292 - val_loss: 0.7369 - val_accuracy: 0.7586\n",
      "Epoch 62/100\n",
      "113/113 [==============================] - 0s 165us/sample - loss: 0.5853 - accuracy: 0.9292 - val_loss: 0.7346 - val_accuracy: 0.7931\n",
      "Epoch 63/100\n",
      "113/113 [==============================] - 0s 194us/sample - loss: 0.5829 - accuracy: 0.9292 - val_loss: 0.7319 - val_accuracy: 0.7931\n",
      "Epoch 64/100\n",
      "113/113 [==============================] - 0s 185us/sample - loss: 0.5805 - accuracy: 0.9292 - val_loss: 0.7293 - val_accuracy: 0.7931\n",
      "Epoch 65/100\n",
      "113/113 [==============================] - 0s 172us/sample - loss: 0.5780 - accuracy: 0.9381 - val_loss: 0.7265 - val_accuracy: 0.8276\n",
      "Epoch 66/100\n",
      "113/113 [==============================] - 0s 222us/sample - loss: 0.5755 - accuracy: 0.9381 - val_loss: 0.7238 - val_accuracy: 0.8276\n",
      "Epoch 67/100\n",
      "113/113 [==============================] - 0s 340us/sample - loss: 0.5731 - accuracy: 0.9381 - val_loss: 0.7213 - val_accuracy: 0.8276\n",
      "Epoch 68/100\n",
      "113/113 [==============================] - 0s 396us/sample - loss: 0.5707 - accuracy: 0.9381 - val_loss: 0.7188 - val_accuracy: 0.8276\n",
      "Epoch 69/100\n",
      "113/113 [==============================] - 0s 178us/sample - loss: 0.5684 - accuracy: 0.9381 - val_loss: 0.7161 - val_accuracy: 0.8621\n",
      "Epoch 70/100\n",
      "113/113 [==============================] - 0s 214us/sample - loss: 0.5660 - accuracy: 0.9381 - val_loss: 0.7139 - val_accuracy: 0.8621\n",
      "Epoch 71/100\n",
      "113/113 [==============================] - 0s 319us/sample - loss: 0.5638 - accuracy: 0.9381 - val_loss: 0.7113 - val_accuracy: 0.8621\n",
      "Epoch 72/100\n",
      "113/113 [==============================] - 0s 255us/sample - loss: 0.5614 - accuracy: 0.9381 - val_loss: 0.7090 - val_accuracy: 0.8621\n",
      "Epoch 73/100\n",
      "113/113 [==============================] - 0s 275us/sample - loss: 0.5591 - accuracy: 0.9381 - val_loss: 0.7065 - val_accuracy: 0.8621\n",
      "Epoch 74/100\n",
      "113/113 [==============================] - 0s 189us/sample - loss: 0.5568 - accuracy: 0.9381 - val_loss: 0.7043 - val_accuracy: 0.8621\n",
      "Epoch 75/100\n",
      "113/113 [==============================] - 0s 249us/sample - loss: 0.5545 - accuracy: 0.9381 - val_loss: 0.7018 - val_accuracy: 0.8621\n",
      "Epoch 76/100\n",
      "113/113 [==============================] - 0s 181us/sample - loss: 0.5523 - accuracy: 0.9381 - val_loss: 0.6999 - val_accuracy: 0.8621\n",
      "Epoch 77/100\n",
      "113/113 [==============================] - 0s 261us/sample - loss: 0.5501 - accuracy: 0.9381 - val_loss: 0.6975 - val_accuracy: 0.8621\n",
      "Epoch 78/100\n",
      "113/113 [==============================] - 0s 336us/sample - loss: 0.5479 - accuracy: 0.9381 - val_loss: 0.6953 - val_accuracy: 0.8621\n",
      "Epoch 79/100\n",
      "113/113 [==============================] - 0s 448us/sample - loss: 0.5457 - accuracy: 0.9381 - val_loss: 0.6930 - val_accuracy: 0.8621\n",
      "Epoch 80/100\n",
      "113/113 [==============================] - 0s 206us/sample - loss: 0.5435 - accuracy: 0.9381 - val_loss: 0.6909 - val_accuracy: 0.8621\n",
      "Epoch 81/100\n",
      "113/113 [==============================] - 0s 219us/sample - loss: 0.5414 - accuracy: 0.9381 - val_loss: 0.6884 - val_accuracy: 0.8621\n",
      "Epoch 82/100\n",
      "113/113 [==============================] - 0s 208us/sample - loss: 0.5391 - accuracy: 0.9381 - val_loss: 0.6860 - val_accuracy: 0.8966\n",
      "Epoch 83/100\n",
      "113/113 [==============================] - 0s 219us/sample - loss: 0.5370 - accuracy: 0.9381 - val_loss: 0.6838 - val_accuracy: 0.8966\n",
      "Epoch 84/100\n",
      "113/113 [==============================] - 0s 218us/sample - loss: 0.5348 - accuracy: 0.9381 - val_loss: 0.6813 - val_accuracy: 0.8966\n",
      "Epoch 85/100\n",
      "113/113 [==============================] - 0s 228us/sample - loss: 0.5326 - accuracy: 0.9381 - val_loss: 0.6791 - val_accuracy: 0.8966\n",
      "Epoch 86/100\n",
      "113/113 [==============================] - 0s 242us/sample - loss: 0.5305 - accuracy: 0.9381 - val_loss: 0.6768 - val_accuracy: 0.8966\n",
      "Epoch 87/100\n",
      "113/113 [==============================] - 0s 205us/sample - loss: 0.5284 - accuracy: 0.9381 - val_loss: 0.6748 - val_accuracy: 0.8966\n",
      "Epoch 88/100\n",
      "113/113 [==============================] - 0s 210us/sample - loss: 0.5263 - accuracy: 0.9381 - val_loss: 0.6725 - val_accuracy: 0.8966\n",
      "Epoch 89/100\n",
      "113/113 [==============================] - 0s 273us/sample - loss: 0.5243 - accuracy: 0.9381 - val_loss: 0.6703 - val_accuracy: 0.8966\n",
      "Epoch 90/100\n",
      "113/113 [==============================] - 0s 185us/sample - loss: 0.5222 - accuracy: 0.9381 - val_loss: 0.6683 - val_accuracy: 0.8966\n",
      "Epoch 91/100\n",
      "113/113 [==============================] - 0s 183us/sample - loss: 0.5202 - accuracy: 0.9381 - val_loss: 0.6660 - val_accuracy: 0.8966\n",
      "Epoch 92/100\n",
      "113/113 [==============================] - 0s 349us/sample - loss: 0.5181 - accuracy: 0.9381 - val_loss: 0.6638 - val_accuracy: 0.8966\n",
      "Epoch 93/100\n",
      "113/113 [==============================] - 0s 580us/sample - loss: 0.5160 - accuracy: 0.9381 - val_loss: 0.6615 - val_accuracy: 0.8966\n",
      "Epoch 94/100\n",
      "113/113 [==============================] - 0s 375us/sample - loss: 0.5140 - accuracy: 0.9381 - val_loss: 0.6592 - val_accuracy: 0.8966\n",
      "Epoch 95/100\n",
      "113/113 [==============================] - 0s 453us/sample - loss: 0.5119 - accuracy: 0.9381 - val_loss: 0.6570 - val_accuracy: 0.8966\n",
      "Epoch 96/100\n",
      "113/113 [==============================] - 0s 315us/sample - loss: 0.5099 - accuracy: 0.9469 - val_loss: 0.6549 - val_accuracy: 0.8966\n",
      "Epoch 97/100\n",
      "113/113 [==============================] - 0s 292us/sample - loss: 0.5079 - accuracy: 0.9469 - val_loss: 0.6526 - val_accuracy: 0.8966\n",
      "Epoch 98/100\n",
      "113/113 [==============================] - 0s 235us/sample - loss: 0.5059 - accuracy: 0.9469 - val_loss: 0.6507 - val_accuracy: 0.8966\n",
      "Epoch 99/100\n",
      "113/113 [==============================] - 0s 280us/sample - loss: 0.5039 - accuracy: 0.9469 - val_loss: 0.6483 - val_accuracy: 0.8966\n",
      "Epoch 100/100\n",
      "113/113 [==============================] - 0s 283us/sample - loss: 0.5019 - accuracy: 0.9469 - val_loss: 0.6461 - val_accuracy: 0.8966\n"
     ]
    }
   ],
   "source": [
    "training_history = model.fit(x_train.values, \n",
    "                             y_train, \n",
    "                             validation_split = 0.2, \n",
    "                             epochs = num_epochs,\n",
    "                             batch_size = 48)"
   ]
  },
  {
   "cell_type": "code",
   "execution_count": 26,
   "metadata": {},
   "outputs": [
    {
     "data": {
      "text/plain": [
       "dict_keys(['loss', 'accuracy', 'val_loss', 'val_accuracy'])"
      ]
     },
     "execution_count": 26,
     "metadata": {},
     "output_type": "execute_result"
    }
   ],
   "source": [
    "training_history.history.keys()"
   ]
  },
  {
   "cell_type": "code",
   "execution_count": 29,
   "metadata": {
    "scrolled": false
   },
   "outputs": [
    {
     "data": {
      "text/plain": [
       "<matplotlib.legend.Legend at 0x1414b4d10>"
      ]
     },
     "execution_count": 29,
     "metadata": {},
     "output_type": "execute_result"
    },
    {
     "data": {
      "image/png": "[encoded data removed]",
      "text/plain": [
       "<Figure size 1008x576 with 2 Axes>"
      ]
     },
     "metadata": {
      "needs_background": "light"
     },
     "output_type": "display_data"
    }
   ],
   "source": [
    "train_acc = training_history.history['accuracy']\n",
    "train_loss = training_history.history['loss']\n",
    "\n",
    "precision = training_history.history['val_accuracy']\n",
    "recall = training_history.history['val_loss']\n",
    "\n",
    "epochs_range = range(num_epochs)\n",
    "\n",
    "plt.figure(figsize=(14, 8))\n",
    "\n",
    "plt.subplot(1, 2, 1)\n",
    "\n",
    "plt.plot(epochs_range, train_acc, label='Training Accuracy')\n",
    "plt.plot(epochs_range, train_loss, label='Training Loss')\n",
    "\n",
    "plt.title('Training')\n",
    "plt.legend()\n",
    "\n",
    "plt.subplot(1, 2, 2)\n",
    "\n",
    "plt.plot(epochs_range, precision, label='Validation Accuracy')\n",
    "plt.plot(epochs_range, recall, label='Validation Loss')\n",
    "\n",
    "plt.title('Validation')\n",
    "plt.legend()"
   ]
  },
  {
   "cell_type": "markdown",
   "metadata": {},
   "source": [
    "### Model evaluation"
   ]
  },
  {
   "cell_type": "code",
   "execution_count": 30,
   "metadata": {},
   "outputs": [
    {
     "name": "stdout",
     "output_type": "stream",
     "text": [
      "36/36 [==============================] - 0s 181us/sample - loss: 0.5252 - accuracy: 0.9722\n"
     ]
    },
    {
     "data": {
      "text/plain": [
       "loss        0.525194\n",
       "accuracy    0.972222\n",
       "dtype: float64"
      ]
     },
     "execution_count": 30,
     "metadata": {},
     "output_type": "execute_result"
    }
   ],
   "source": [
    "score = model.evaluate(x_test, y_test)\n",
    "\n",
    "score_df = pd.Series(score, index = model.metrics_names)\n",
    "\n",
    "score_df"
   ]
  },
  {
   "cell_type": "markdown",
   "metadata": {},
   "source": [
    "### Predicting the model"
   ]
  },
  {
   "cell_type": "code",
   "execution_count": 31,
   "metadata": {},
   "outputs": [
    {
     "data": {
      "text/plain": [
       "array([[0.19096762, 0.23577446, 0.5732579 ],\n",
       "       [0.21332249, 0.6575939 , 0.12908357],\n",
       "       [0.54898167, 0.28316942, 0.16784886],\n",
       "       [0.3191119 , 0.5792227 , 0.10166539],\n",
       "       [0.70750856, 0.12881096, 0.16368043],\n",
       "       [0.18227057, 0.23533075, 0.5823987 ],\n",
       "       [0.21861762, 0.6332382 , 0.14814422],\n",
       "       [0.82993734, 0.09114079, 0.07892194],\n",
       "       [0.16305587, 0.3838157 , 0.45312837],\n",
       "       [0.22258751, 0.54073745, 0.23667498]], dtype=float32)"
      ]
     },
     "execution_count": 31,
     "metadata": {},
     "output_type": "execute_result"
    }
   ],
   "source": [
    "y_pred = model.predict(x_test)\n",
    "\n",
    "y_pred[:10]"
   ]
  },
  {
   "cell_type": "code",
   "execution_count": 32,
   "metadata": {},
   "outputs": [],
   "source": [
    "y_pred = np.where(y_pred>=0.5, 1, y_pred)\n",
    "\n",
    "y_pred = np.where(y_pred<0.5, 0, y_pred)"
   ]
  },
  {
   "cell_type": "code",
   "execution_count": 33,
   "metadata": {},
   "outputs": [
    {
     "data": {
      "text/plain": [
       "array([[0., 0., 1.],\n",
       "       [0., 1., 0.],\n",
       "       [1., 0., 0.],\n",
       "       [0., 1., 0.],\n",
       "       [1., 0., 0.],\n",
       "       [0., 0., 1.],\n",
       "       [0., 1., 0.],\n",
       "       [1., 0., 0.],\n",
       "       [0., 0., 0.],\n",
       "       [0., 1., 0.]], dtype=float32)"
      ]
     },
     "execution_count": 33,
     "metadata": {},
     "output_type": "execute_result"
    }
   ],
   "source": [
    "y_pred[:10]"
   ]
  },
  {
   "cell_type": "code",
   "execution_count": 34,
   "metadata": {},
   "outputs": [
    {
     "data": {
      "text/plain": [
       "array([[0., 0., 1.],\n",
       "       [0., 1., 0.],\n",
       "       [1., 0., 0.],\n",
       "       [0., 1., 0.],\n",
       "       [1., 0., 0.],\n",
       "       [0., 0., 1.],\n",
       "       [0., 1., 0.],\n",
       "       [1., 0., 0.],\n",
       "       [0., 0., 1.],\n",
       "       [0., 1., 0.]], dtype=float32)"
      ]
     },
     "execution_count": 34,
     "metadata": {},
     "output_type": "execute_result"
    }
   ],
   "source": [
    "y_test[:10]"
   ]
  },
  {
   "cell_type": "markdown",
   "metadata": {},
   "source": [
    "Score"
   ]
  },
  {
   "cell_type": "code",
   "execution_count": 35,
   "metadata": {},
   "outputs": [
    {
     "data": {
      "text/plain": [
       "0.8611111111111112"
      ]
     },
     "execution_count": 35,
     "metadata": {},
     "output_type": "execute_result"
    }
   ],
   "source": [
    "accuracy_score(y_test, y_pred)"
   ]
  },
  {
   "cell_type": "code",
   "execution_count": null,
   "metadata": {},
   "outputs": [],
   "source": []
  }
 ],
 "metadata": {
  "kernelspec": {
   "display_name": "Python 3",
   "language": "python",
   "name": "python3"
  },
  "language_info": {
   "codemirror_mode": {
    "name": "ipython",
    "version": 3
   },
   "file_extension": ".py",
   "mimetype": "text/x-python",
   "name": "python",
   "nbconvert_exporter": "python",
   "pygments_lexer": "ipython3",
   "version": "3.7.4"
  }
 },
 "nbformat": 4,
 "nbformat_minor": 4
}
