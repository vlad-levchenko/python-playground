{
 "cells": [
  {
   "cell_type": "code",
   "execution_count": 93,
   "metadata": {},
   "outputs": [],
   "source": [
    "import numpy as np \n",
    "import pandas as pd\n",
    "import matplotlib.pyplot as plt \n",
    "\n",
    "import tensorflow as tf "
   ]
  },
  {
   "cell_type": "code",
   "execution_count": 2,
   "metadata": {},
   "outputs": [],
   "source": [
    "W_true = 2\n",
    "b_true = 0.5"
   ]
  },
  {
   "cell_type": "code",
   "execution_count": 38,
   "metadata": {},
   "outputs": [],
   "source": [
    "x = np.linspace(0, 3, 130)\n",
    "\n",
    "y = W_true * x + b_true + np.random.randn(*x.shape) * 0.5"
   ]
  },
  {
   "cell_type": "code",
   "execution_count": 39,
   "metadata": {},
   "outputs": [
    {
     "data": {
      "image/png": "[encoded data removed]",
      "text/plain": [
       "<Figure size 720x576 with 1 Axes>"
      ]
     },
     "metadata": {
      "needs_background": "light"
     },
     "output_type": "display_data"
    }
   ],
   "source": [
    "plt.figure(figsize=(10, 8))\n",
    "\n",
    "plt.scatter(x, y)\n",
    "\n",
    "plt.xlabel('x') \n",
    "plt.ylabel('y') \n",
    "\n",
    "plt.title(\"Training Data\") \n",
    "plt.show() "
   ]
  },
  {
   "cell_type": "markdown",
   "metadata": {},
   "source": [
    "Defining the model"
   ]
  },
  {
   "cell_type": "code",
   "execution_count": 47,
   "metadata": {},
   "outputs": [],
   "source": [
    "class LinearModel:\n",
    "\n",
    "    def __init__(self):\n",
    "        self.weight = tf.Variable(np.random.randn(), name = \"W\")\n",
    "        self.bias = tf.Variable(np.random.randn(), name = \"b\") \n",
    "        \n",
    "    def __call__(self, x):\n",
    "        return self.weight * x + self.bias"
   ]
  },
  {
   "cell_type": "markdown",
   "metadata": {},
   "source": [
    "Defining the loss function"
   ]
  },
  {
   "cell_type": "code",
   "execution_count": 49,
   "metadata": {},
   "outputs": [],
   "source": [
    "def loss(y, y_pred):\n",
    "    return tf.reduce_mean(tf.square(y - y_pred))"
   ]
  },
  {
   "cell_type": "markdown",
   "metadata": {},
   "source": [
    "Training function"
   ]
  },
  {
   "cell_type": "code",
   "execution_count": 51,
   "metadata": {},
   "outputs": [],
   "source": [
    "def train(linear_model, x, y, lr = 0.01):\n",
    "    \n",
    "    with tf.GradientTape() as tape:\n",
    "        \n",
    "        y_pred = linear_model(x)\n",
    "        \n",
    "        current_loss = loss(y, y_pred)\n",
    "\n",
    "    d_weight, d_bias = tape.gradient(current_loss, \n",
    "                                     [linear_model.weight, linear_model.bias])\n",
    "    \n",
    "    linear_model.weight.assign_sub(lr * d_weight)\n",
    "    linear_model.bias.assign_sub(lr * d_bias)"
   ]
  },
  {
   "cell_type": "markdown",
   "metadata": {},
   "source": [
    "### Note:\n",
    "    First give epochs = 10, show the graph, then epochs = 50 and epochs = 100 show the graph each time"
   ]
  },
  {
   "cell_type": "code",
   "execution_count": 68,
   "metadata": {},
   "outputs": [],
   "source": [
    "linear_model = LinearModel()\n",
    "\n",
    "weights, biases = [], []\n",
    "\n",
    "epochs = 100\n",
    "\n",
    "lr = 0.15"
   ]
  },
  {
   "cell_type": "code",
   "execution_count": 69,
   "metadata": {
    "scrolled": true
   },
   "outputs": [
    {
     "name": "stdout",
     "output_type": "stream",
     "text": [
      "Epoch count 0: Loss value: 32.58353042602539\n",
      "Epoch count 1: Loss value: 0.5290930271148682\n",
      "Epoch count 2: Loss value: 0.2936752438545227\n",
      "Epoch count 3: Loss value: 0.289306640625\n",
      "Epoch count 4: Loss value: 0.2868628203868866\n",
      "Epoch count 5: Loss value: 0.28465884923934937\n",
      "Epoch count 6: Loss value: 0.28266122937202454\n",
      "Epoch count 7: Loss value: 0.2808505892753601\n",
      "Epoch count 8: Loss value: 0.2792094647884369\n",
      "Epoch count 9: Loss value: 0.27772197127342224\n",
      "Epoch count 10: Loss value: 0.2763737142086029\n",
      "Epoch count 11: Loss value: 0.2751515805721283\n",
      "Epoch count 12: Loss value: 0.2740439474582672\n",
      "Epoch count 13: Loss value: 0.27303993701934814\n",
      "Epoch count 14: Loss value: 0.27212995290756226\n",
      "Epoch count 15: Loss value: 0.2713051438331604\n",
      "Epoch count 16: Loss value: 0.2705575227737427\n",
      "Epoch count 17: Loss value: 0.26987987756729126\n",
      "Epoch count 18: Loss value: 0.26926568150520325\n",
      "Epoch count 19: Loss value: 0.2687089443206787\n",
      "Epoch count 20: Loss value: 0.2682044208049774\n",
      "Epoch count 21: Loss value: 0.26774701476097107\n",
      "Epoch count 22: Loss value: 0.2673324942588806\n",
      "Epoch count 23: Loss value: 0.26695677638053894\n",
      "Epoch count 24: Loss value: 0.26661619544029236\n",
      "Epoch count 25: Loss value: 0.2663074731826782\n",
      "Epoch count 26: Loss value: 0.2660277187824249\n",
      "Epoch count 27: Loss value: 0.26577410101890564\n",
      "Epoch count 28: Loss value: 0.26554420590400696\n",
      "Epoch count 29: Loss value: 0.26533588767051697\n",
      "Epoch count 30: Loss value: 0.26514706015586853\n",
      "Epoch count 31: Loss value: 0.2649758756160736\n",
      "Epoch count 32: Loss value: 0.26482072472572327\n",
      "Epoch count 33: Loss value: 0.26468008756637573\n",
      "Epoch count 34: Loss value: 0.26455265283584595\n",
      "Epoch count 35: Loss value: 0.26443713903427124\n",
      "Epoch count 36: Loss value: 0.26433244347572327\n",
      "Epoch count 37: Loss value: 0.2642374634742737\n",
      "Epoch count 38: Loss value: 0.2641514837741852\n",
      "Epoch count 39: Loss value: 0.2640734910964966\n",
      "Epoch count 40: Loss value: 0.26400282979011536\n",
      "Epoch count 41: Loss value: 0.2639387845993042\n",
      "Epoch count 42: Loss value: 0.2638806998729706\n",
      "Epoch count 43: Loss value: 0.2638280689716339\n",
      "Epoch count 44: Loss value: 0.2637803852558136\n",
      "Epoch count 45: Loss value: 0.26373714208602905\n",
      "Epoch count 46: Loss value: 0.26369795203208923\n",
      "Epoch count 47: Loss value: 0.2636624276638031\n",
      "Epoch count 48: Loss value: 0.2636302411556244\n",
      "Epoch count 49: Loss value: 0.26360106468200684\n",
      "Epoch count 50: Loss value: 0.26357460021972656\n",
      "Epoch count 51: Loss value: 0.26355063915252686\n",
      "Epoch count 52: Loss value: 0.2635289132595062\n",
      "Epoch count 53: Loss value: 0.26350921392440796\n",
      "Epoch count 54: Loss value: 0.26349136233329773\n",
      "Epoch count 55: Loss value: 0.2634751796722412\n",
      "Epoch count 56: Loss value: 0.2634604573249817\n",
      "Epoch count 57: Loss value: 0.26344722509384155\n",
      "Epoch count 58: Loss value: 0.26343515515327454\n",
      "Epoch count 59: Loss value: 0.26342421770095825\n",
      "Epoch count 60: Loss value: 0.26341432332992554\n",
      "Epoch count 61: Loss value: 0.26340538263320923\n",
      "Epoch count 62: Loss value: 0.2633972465991974\n",
      "Epoch count 63: Loss value: 0.2633898854255676\n",
      "Epoch count 64: Loss value: 0.263383150100708\n",
      "Epoch count 65: Loss value: 0.2633771300315857\n",
      "Epoch count 66: Loss value: 0.26337164640426636\n",
      "Epoch count 67: Loss value: 0.2633666694164276\n",
      "Epoch count 68: Loss value: 0.2633621394634247\n",
      "Epoch count 69: Loss value: 0.26335805654525757\n",
      "Epoch count 70: Loss value: 0.2633543610572815\n",
      "Epoch count 71: Loss value: 0.2633509933948517\n",
      "Epoch count 72: Loss value: 0.26334795355796814\n",
      "Epoch count 73: Loss value: 0.26334521174430847\n",
      "Epoch count 74: Loss value: 0.2633427083492279\n",
      "Epoch count 75: Loss value: 0.26334047317504883\n",
      "Epoch count 76: Loss value: 0.2633383870124817\n",
      "Epoch count 77: Loss value: 0.26333653926849365\n",
      "Epoch count 78: Loss value: 0.26333484053611755\n",
      "Epoch count 79: Loss value: 0.2633333206176758\n",
      "Epoch count 80: Loss value: 0.26333191990852356\n",
      "Epoch count 81: Loss value: 0.2633306682109833\n",
      "Epoch count 82: Loss value: 0.26332953572273254\n",
      "Epoch count 83: Loss value: 0.263328492641449\n",
      "Epoch count 84: Loss value: 0.26332756876945496\n",
      "Epoch count 85: Loss value: 0.2633267343044281\n",
      "Epoch count 86: Loss value: 0.26332589983940125\n",
      "Epoch count 87: Loss value: 0.2633252739906311\n",
      "Epoch count 88: Loss value: 0.2633246183395386\n",
      "Epoch count 89: Loss value: 0.2633240222930908\n",
      "Epoch count 90: Loss value: 0.2633235454559326\n",
      "Epoch count 91: Loss value: 0.2633230686187744\n",
      "Epoch count 92: Loss value: 0.2633225917816162\n",
      "Epoch count 93: Loss value: 0.26332223415374756\n",
      "Epoch count 94: Loss value: 0.2633218765258789\n",
      "Epoch count 95: Loss value: 0.2633216083049774\n",
      "Epoch count 96: Loss value: 0.26332128047943115\n",
      "Epoch count 97: Loss value: 0.26332104206085205\n",
      "Epoch count 98: Loss value: 0.26332077383995056\n",
      "Epoch count 99: Loss value: 0.26332053542137146\n"
     ]
    }
   ],
   "source": [
    "for epoch_count in range(epochs):\n",
    "    \n",
    "    weights.append(linear_model.weight.numpy()) \n",
    "    biases.append(linear_model.bias.numpy())\n",
    "    \n",
    "    real_loss = loss(y, linear_model(x))\n",
    "    \n",
    "    train(linear_model, x, y, lr = 0.12)\n",
    "    \n",
    "    print(f\"Epoch count {epoch_count}: Loss value: {real_loss.numpy()}\")"
   ]
  },
  {
   "cell_type": "code",
   "execution_count": 70,
   "metadata": {},
   "outputs": [
    {
     "data": {
      "image/png": "[encoded data removed]",
      "text/plain": [
       "<Figure size 720x576 with 1 Axes>"
      ]
     },
     "metadata": {
      "needs_background": "light"
     },
     "output_type": "display_data"
    }
   ],
   "source": [
    "plt.figure(figsize=(10, 8))\n",
    "\n",
    "plt.plot(range(epochs), weights, 'r', range(epochs), biases, 'b')\n",
    "plt.plot([W_true] * epochs, 'r--', [b_true] * epochs, 'b--')\n",
    "\n",
    "plt.legend(['W', 'b', 'true W', 'true b'])\n",
    "plt.show()"
   ]
  },
  {
   "cell_type": "code",
   "execution_count": 71,
   "metadata": {},
   "outputs": [
    {
     "data": {
      "text/plain": [
       "(2.0864003, 0.34551474)"
      ]
     },
     "execution_count": 71,
     "metadata": {},
     "output_type": "execute_result"
    }
   ],
   "source": [
    "linear_model.weight.numpy(), linear_model.bias.numpy()"
   ]
  },
  {
   "cell_type": "code",
   "execution_count": 72,
   "metadata": {},
   "outputs": [
    {
     "data": {
      "text/plain": [
       "0.2633204"
      ]
     },
     "execution_count": 72,
     "metadata": {},
     "output_type": "execute_result"
    }
   ],
   "source": [
    "rmse = loss(y, linear_model(x))\n",
    "\n",
    "rmse.numpy()"
   ]
  },
  {
   "cell_type": "code",
   "execution_count": 74,
   "metadata": {},
   "outputs": [
    {
     "data": {
      "image/png": "[encoded data removed]",
      "text/plain": [
       "<Figure size 720x576 with 1 Axes>"
      ]
     },
     "metadata": {
      "needs_background": "light"
     },
     "output_type": "display_data"
    }
   ],
   "source": [
    "plt.figure(figsize=(10, 8))\n",
    "\n",
    "plt.plot(x, y, 'ro', label = 'Original data') \n",
    "plt.plot(x, linear_model(x), label = 'Fitted line') \n",
    "\n",
    "plt.title('Linear Regression') \n",
    "\n",
    "plt.legend() \n",
    "plt.show() "
   ]
  },
  {
   "cell_type": "markdown",
   "metadata": {},
   "source": [
    "### Using model.fit()"
   ]
  },
  {
   "cell_type": "code",
   "execution_count": 80,
   "metadata": {},
   "outputs": [],
   "source": [
    "from tensorflow import keras\n",
    "from tensorflow.keras import layers"
   ]
  },
  {
   "cell_type": "code",
   "execution_count": 81,
   "metadata": {},
   "outputs": [
    {
     "data": {
      "text/plain": [
       "((130, 1), (130, 1))"
      ]
     },
     "execution_count": 81,
     "metadata": {},
     "output_type": "execute_result"
    }
   ],
   "source": [
    "x.shape, y.shape"
   ]
  },
  {
   "cell_type": "code",
   "execution_count": 82,
   "metadata": {},
   "outputs": [],
   "source": [
    "x = pd.DataFrame(x, columns = ['x'])     \n",
    "y = pd.DataFrame(y, columns = ['y'])     "
   ]
  },
  {
   "cell_type": "code",
   "execution_count": 83,
   "metadata": {},
   "outputs": [
    {
     "data": {
      "text/html": [
       "<div>\n",
       "<style scoped>\n",
       "    .dataframe tbody tr th:only-of-type {\n",
       "        vertical-align: middle;\n",
       "    }\n",
       "\n",
       "    .dataframe tbody tr th {\n",
       "        vertical-align: top;\n",
       "    }\n",
       "\n",
       "    .dataframe thead th {\n",
       "        text-align: right;\n",
       "    }\n",
       "</style>\n",
       "<table border=\"1\" class=\"dataframe\">\n",
       "  <thead>\n",
       "    <tr style=\"text-align: right;\">\n",
       "      <th></th>\n",
       "      <th>x</th>\n",
       "    </tr>\n",
       "  </thead>\n",
       "  <tbody>\n",
       "    <tr>\n",
       "      <td>0</td>\n",
       "      <td>0.000000</td>\n",
       "    </tr>\n",
       "    <tr>\n",
       "      <td>1</td>\n",
       "      <td>0.023256</td>\n",
       "    </tr>\n",
       "    <tr>\n",
       "      <td>2</td>\n",
       "      <td>0.046512</td>\n",
       "    </tr>\n",
       "    <tr>\n",
       "      <td>3</td>\n",
       "      <td>0.069767</td>\n",
       "    </tr>\n",
       "    <tr>\n",
       "      <td>4</td>\n",
       "      <td>0.093023</td>\n",
       "    </tr>\n",
       "  </tbody>\n",
       "</table>\n",
       "</div>"
      ],
      "text/plain": [
       "          x\n",
       "0  0.000000\n",
       "1  0.023256\n",
       "2  0.046512\n",
       "3  0.069767\n",
       "4  0.093023"
      ]
     },
     "execution_count": 83,
     "metadata": {},
     "output_type": "execute_result"
    }
   ],
   "source": [
    "x.head()"
   ]
  },
  {
   "cell_type": "code",
   "execution_count": 84,
   "metadata": {},
   "outputs": [
    {
     "data": {
      "text/html": [
       "<div>\n",
       "<style scoped>\n",
       "    .dataframe tbody tr th:only-of-type {\n",
       "        vertical-align: middle;\n",
       "    }\n",
       "\n",
       "    .dataframe tbody tr th {\n",
       "        vertical-align: top;\n",
       "    }\n",
       "\n",
       "    .dataframe thead th {\n",
       "        text-align: right;\n",
       "    }\n",
       "</style>\n",
       "<table border=\"1\" class=\"dataframe\">\n",
       "  <thead>\n",
       "    <tr style=\"text-align: right;\">\n",
       "      <th></th>\n",
       "      <th>y</th>\n",
       "    </tr>\n",
       "  </thead>\n",
       "  <tbody>\n",
       "    <tr>\n",
       "      <td>0</td>\n",
       "      <td>-0.111933</td>\n",
       "    </tr>\n",
       "    <tr>\n",
       "      <td>1</td>\n",
       "      <td>0.119471</td>\n",
       "    </tr>\n",
       "    <tr>\n",
       "      <td>2</td>\n",
       "      <td>0.225526</td>\n",
       "    </tr>\n",
       "    <tr>\n",
       "      <td>3</td>\n",
       "      <td>0.262347</td>\n",
       "    </tr>\n",
       "    <tr>\n",
       "      <td>4</td>\n",
       "      <td>0.166542</td>\n",
       "    </tr>\n",
       "  </tbody>\n",
       "</table>\n",
       "</div>"
      ],
      "text/plain": [
       "          y\n",
       "0 -0.111933\n",
       "1  0.119471\n",
       "2  0.225526\n",
       "3  0.262347\n",
       "4  0.166542"
      ]
     },
     "execution_count": 84,
     "metadata": {},
     "output_type": "execute_result"
    }
   ],
   "source": [
    "y.head()"
   ]
  },
  {
   "cell_type": "code",
   "execution_count": 79,
   "metadata": {},
   "outputs": [
    {
     "data": {
      "text/plain": [
       "((130, 1), (130, 1))"
      ]
     },
     "execution_count": 79,
     "metadata": {},
     "output_type": "execute_result"
    }
   ],
   "source": [
    "x.shape, y.shape"
   ]
  },
  {
   "cell_type": "code",
   "execution_count": 85,
   "metadata": {},
   "outputs": [],
   "source": [
    "model = keras.Sequential([layers.Dense(1, input_shape = (1,), activation = 'linear')])\n",
    "\n",
    "optimizer = tf.keras.optimizers.SGD(learning_rate = 0.001)\n",
    "\n",
    "model.compile(loss = 'mse', metrics = ['mse'], optimizer = optimizer)"
   ]
  },
  {
   "cell_type": "code",
   "execution_count": 88,
   "metadata": {
    "scrolled": true
   },
   "outputs": [
    {
     "name": "stdout",
     "output_type": "stream",
     "text": [
      "Train on 130 samples\n",
      "Epoch 1/100\n",
      "130/130 [==============================] - 0s 329us/sample - loss: 0.2768 - mse: 0.2768\n",
      "Epoch 2/100\n",
      "130/130 [==============================] - 0s 212us/sample - loss: 0.2767 - mse: 0.2767\n",
      "Epoch 3/100\n",
      "130/130 [==============================] - 0s 338us/sample - loss: 0.2767 - mse: 0.2767\n",
      "Epoch 4/100\n",
      "130/130 [==============================] - 0s 167us/sample - loss: 0.2765 - mse: 0.2765\n",
      "Epoch 5/100\n",
      "130/130 [==============================] - 0s 276us/sample - loss: 0.2764 - mse: 0.2764\n",
      "Epoch 6/100\n",
      "130/130 [==============================] - 0s 219us/sample - loss: 0.2764 - mse: 0.2764\n",
      "Epoch 7/100\n",
      "130/130 [==============================] - 0s 216us/sample - loss: 0.2763 - mse: 0.2763\n",
      "Epoch 8/100\n",
      "130/130 [==============================] - 0s 261us/sample - loss: 0.2762 - mse: 0.2762\n",
      "Epoch 9/100\n",
      "130/130 [==============================] - 0s 208us/sample - loss: 0.2762 - mse: 0.2762\n",
      "Epoch 10/100\n",
      "130/130 [==============================] - 0s 154us/sample - loss: 0.2762 - mse: 0.2762\n",
      "Epoch 11/100\n",
      "130/130 [==============================] - 0s 495us/sample - loss: 0.2762 - mse: 0.2762\n",
      "Epoch 12/100\n",
      "130/130 [==============================] - 0s 100us/sample - loss: 0.2761 - mse: 0.2761\n",
      "Epoch 13/100\n",
      "130/130 [==============================] - 0s 138us/sample - loss: 0.2761 - mse: 0.2761\n",
      "Epoch 14/100\n",
      "130/130 [==============================] - 0s 134us/sample - loss: 0.2760 - mse: 0.2760\n",
      "Epoch 15/100\n",
      "130/130 [==============================] - 0s 133us/sample - loss: 0.2759 - mse: 0.2759\n",
      "Epoch 16/100\n",
      "130/130 [==============================] - 0s 155us/sample - loss: 0.2760 - mse: 0.2760\n",
      "Epoch 17/100\n",
      "130/130 [==============================] - 0s 151us/sample - loss: 0.2759 - mse: 0.2759\n",
      "Epoch 18/100\n",
      "130/130 [==============================] - 0s 234us/sample - loss: 0.2760 - mse: 0.2760\n",
      "Epoch 19/100\n",
      "130/130 [==============================] - 0s 134us/sample - loss: 0.2760 - mse: 0.2760\n",
      "Epoch 20/100\n",
      "130/130 [==============================] - 0s 144us/sample - loss: 0.2761 - mse: 0.2761\n",
      "Epoch 21/100\n",
      "130/130 [==============================] - 0s 124us/sample - loss: 0.2761 - mse: 0.2761\n",
      "Epoch 22/100\n",
      "130/130 [==============================] - 0s 175us/sample - loss: 0.2759 - mse: 0.2759\n",
      "Epoch 23/100\n",
      "130/130 [==============================] - 0s 213us/sample - loss: 0.2760 - mse: 0.2760\n",
      "Epoch 24/100\n",
      "130/130 [==============================] - 0s 168us/sample - loss: 0.2759 - mse: 0.2759\n",
      "Epoch 25/100\n",
      "130/130 [==============================] - 0s 122us/sample - loss: 0.2758 - mse: 0.2758\n",
      "Epoch 26/100\n",
      "130/130 [==============================] - 0s 349us/sample - loss: 0.2758 - mse: 0.2758\n",
      "Epoch 27/100\n",
      "130/130 [==============================] - 0s 154us/sample - loss: 0.2760 - mse: 0.2760\n",
      "Epoch 28/100\n",
      "130/130 [==============================] - 0s 158us/sample - loss: 0.2759 - mse: 0.2759\n",
      "Epoch 29/100\n",
      "130/130 [==============================] - ETA: 0s - loss: 0.2831 - mse: 0.283 - 0s 227us/sample - loss: 0.2757 - mse: 0.2757\n",
      "Epoch 30/100\n",
      "130/130 [==============================] - 0s 308us/sample - loss: 0.2756 - mse: 0.2756\n",
      "Epoch 31/100\n",
      "130/130 [==============================] - 0s 197us/sample - loss: 0.2754 - mse: 0.2754\n",
      "Epoch 32/100\n",
      "130/130 [==============================] - 0s 139us/sample - loss: 0.2753 - mse: 0.2753\n",
      "Epoch 33/100\n",
      "130/130 [==============================] - 0s 156us/sample - loss: 0.2752 - mse: 0.2752\n",
      "Epoch 34/100\n",
      "130/130 [==============================] - 0s 125us/sample - loss: 0.2753 - mse: 0.2753\n",
      "Epoch 35/100\n",
      "130/130 [==============================] - 0s 172us/sample - loss: 0.2751 - mse: 0.2751\n",
      "Epoch 36/100\n",
      "130/130 [==============================] - 0s 189us/sample - loss: 0.2752 - mse: 0.2752\n",
      "Epoch 37/100\n",
      "130/130 [==============================] - 0s 175us/sample - loss: 0.2751 - mse: 0.2751\n",
      "Epoch 38/100\n",
      "130/130 [==============================] - 0s 145us/sample - loss: 0.2750 - mse: 0.2750\n",
      "Epoch 39/100\n",
      "130/130 [==============================] - 0s 256us/sample - loss: 0.2749 - mse: 0.2749\n",
      "Epoch 40/100\n",
      "130/130 [==============================] - 0s 273us/sample - loss: 0.2748 - mse: 0.2748\n",
      "Epoch 41/100\n",
      "130/130 [==============================] - 0s 148us/sample - loss: 0.2748 - mse: 0.2748\n",
      "Epoch 42/100\n",
      "130/130 [==============================] - 0s 206us/sample - loss: 0.2747 - mse: 0.2747\n",
      "Epoch 43/100\n",
      "130/130 [==============================] - 0s 138us/sample - loss: 0.2748 - mse: 0.2748\n",
      "Epoch 44/100\n",
      "130/130 [==============================] - 0s 126us/sample - loss: 0.2746 - mse: 0.2746\n",
      "Epoch 45/100\n",
      "130/130 [==============================] - 0s 132us/sample - loss: 0.2746 - mse: 0.2746\n",
      "Epoch 46/100\n",
      "130/130 [==============================] - 0s 139us/sample - loss: 0.2745 - mse: 0.2745\n",
      "Epoch 47/100\n",
      "130/130 [==============================] - 0s 130us/sample - loss: 0.2745 - mse: 0.2745\n",
      "Epoch 48/100\n",
      "130/130 [==============================] - 0s 131us/sample - loss: 0.2744 - mse: 0.2744\n",
      "Epoch 49/100\n",
      "130/130 [==============================] - 0s 182us/sample - loss: 0.2743 - mse: 0.2743\n",
      "Epoch 50/100\n",
      "130/130 [==============================] - 0s 176us/sample - loss: 0.2743 - mse: 0.2743\n",
      "Epoch 51/100\n",
      "130/130 [==============================] - 0s 146us/sample - loss: 0.2742 - mse: 0.2742\n",
      "Epoch 52/100\n",
      "130/130 [==============================] - 0s 142us/sample - loss: 0.2742 - mse: 0.2742\n",
      "Epoch 53/100\n",
      "130/130 [==============================] - 0s 259us/sample - loss: 0.2741 - mse: 0.2741\n",
      "Epoch 54/100\n",
      "130/130 [==============================] - 0s 209us/sample - loss: 0.2741 - mse: 0.2741\n",
      "Epoch 55/100\n",
      "130/130 [==============================] - 0s 295us/sample - loss: 0.2741 - mse: 0.2741\n",
      "Epoch 56/100\n",
      "130/130 [==============================] - 0s 164us/sample - loss: 0.2740 - mse: 0.2740\n",
      "Epoch 57/100\n",
      "130/130 [==============================] - ETA: 0s - loss: 0.3266 - mse: 0.326 - 0s 163us/sample - loss: 0.2739 - mse: 0.2739\n",
      "Epoch 58/100\n",
      "130/130 [==============================] - 0s 124us/sample - loss: 0.2739 - mse: 0.2739\n",
      "Epoch 59/100\n",
      "130/130 [==============================] - 0s 100us/sample - loss: 0.2739 - mse: 0.2739\n",
      "Epoch 60/100\n",
      "130/130 [==============================] - 0s 142us/sample - loss: 0.2739 - mse: 0.2739\n",
      "Epoch 61/100\n",
      "130/130 [==============================] - 0s 137us/sample - loss: 0.2738 - mse: 0.2738\n",
      "Epoch 62/100\n",
      "130/130 [==============================] - 0s 177us/sample - loss: 0.2738 - mse: 0.2738\n",
      "Epoch 63/100\n",
      "130/130 [==============================] - 0s 231us/sample - loss: 0.2737 - mse: 0.2737\n",
      "Epoch 64/100\n",
      "130/130 [==============================] - 0s 176us/sample - loss: 0.2737 - mse: 0.2737\n",
      "Epoch 65/100\n",
      "130/130 [==============================] - 0s 148us/sample - loss: 0.2736 - mse: 0.2736\n",
      "Epoch 66/100\n",
      "130/130 [==============================] - 0s 120us/sample - loss: 0.2737 - mse: 0.2737\n",
      "Epoch 67/100\n",
      "130/130 [==============================] - 0s 125us/sample - loss: 0.2735 - mse: 0.2735\n",
      "Epoch 68/100\n",
      "130/130 [==============================] - 0s 175us/sample - loss: 0.2735 - mse: 0.2735\n",
      "Epoch 69/100\n",
      "130/130 [==============================] - 0s 164us/sample - loss: 0.2734 - mse: 0.2734\n",
      "Epoch 70/100\n",
      "130/130 [==============================] - 0s 242us/sample - loss: 0.2733 - mse: 0.2733\n",
      "Epoch 71/100\n",
      "130/130 [==============================] - 0s 147us/sample - loss: 0.2734 - mse: 0.2734\n",
      "Epoch 72/100\n",
      "130/130 [==============================] - 0s 129us/sample - loss: 0.2733 - mse: 0.2733\n",
      "Epoch 73/100\n",
      "130/130 [==============================] - 0s 150us/sample - loss: 0.2733 - mse: 0.2733\n",
      "Epoch 74/100\n",
      "130/130 [==============================] - 0s 135us/sample - loss: 0.2732 - mse: 0.2732\n",
      "Epoch 75/100\n",
      "130/130 [==============================] - 0s 131us/sample - loss: 0.2732 - mse: 0.2732\n",
      "Epoch 76/100\n",
      "130/130 [==============================] - 0s 123us/sample - loss: 0.2732 - mse: 0.2732\n",
      "Epoch 77/100\n",
      "130/130 [==============================] - 0s 106us/sample - loss: 0.2731 - mse: 0.2731\n",
      "Epoch 78/100\n",
      "130/130 [==============================] - 0s 139us/sample - loss: 0.2731 - mse: 0.2731\n",
      "Epoch 79/100\n",
      "130/130 [==============================] - 0s 201us/sample - loss: 0.2731 - mse: 0.2731\n",
      "Epoch 80/100\n",
      "130/130 [==============================] - 0s 89us/sample - loss: 0.2731 - mse: 0.2731\n",
      "Epoch 81/100\n"
     ]
    },
    {
     "name": "stdout",
     "output_type": "stream",
     "text": [
      "130/130 [==============================] - 0s 177us/sample - loss: 0.2731 - mse: 0.2731\n",
      "Epoch 82/100\n",
      "130/130 [==============================] - 0s 173us/sample - loss: 0.2730 - mse: 0.2730\n",
      "Epoch 83/100\n",
      "130/130 [==============================] - 0s 202us/sample - loss: 0.2731 - mse: 0.2731\n",
      "Epoch 84/100\n",
      "130/130 [==============================] - 0s 202us/sample - loss: 0.2729 - mse: 0.2729\n",
      "Epoch 85/100\n",
      "130/130 [==============================] - 0s 234us/sample - loss: 0.2729 - mse: 0.2729\n",
      "Epoch 86/100\n",
      "130/130 [==============================] - 0s 151us/sample - loss: 0.2728 - mse: 0.2728\n",
      "Epoch 87/100\n",
      "130/130 [==============================] - 0s 154us/sample - loss: 0.2728 - mse: 0.2728\n",
      "Epoch 88/100\n",
      "130/130 [==============================] - 0s 128us/sample - loss: 0.2727 - mse: 0.2727\n",
      "Epoch 89/100\n",
      "130/130 [==============================] - 0s 132us/sample - loss: 0.2727 - mse: 0.2727\n",
      "Epoch 90/100\n",
      "130/130 [==============================] - 0s 125us/sample - loss: 0.2727 - mse: 0.2727\n",
      "Epoch 91/100\n",
      "130/130 [==============================] - 0s 126us/sample - loss: 0.2727 - mse: 0.2727\n",
      "Epoch 92/100\n",
      "130/130 [==============================] - 0s 152us/sample - loss: 0.2726 - mse: 0.2726\n",
      "Epoch 93/100\n",
      "130/130 [==============================] - 0s 140us/sample - loss: 0.2725 - mse: 0.2725\n",
      "Epoch 94/100\n",
      "130/130 [==============================] - 0s 134us/sample - loss: 0.2726 - mse: 0.2726\n",
      "Epoch 95/100\n",
      "130/130 [==============================] - 0s 129us/sample - loss: 0.2726 - mse: 0.2726\n",
      "Epoch 96/100\n",
      "130/130 [==============================] - 0s 189us/sample - loss: 0.2727 - mse: 0.2727\n",
      "Epoch 97/100\n",
      "130/130 [==============================] - 0s 158us/sample - loss: 0.2727 - mse: 0.2727\n",
      "Epoch 98/100\n",
      "130/130 [==============================] - 0s 113us/sample - loss: 0.2727 - mse: 0.2727\n",
      "Epoch 99/100\n",
      "130/130 [==============================] - 0s 194us/sample - loss: 0.2728 - mse: 0.2728\n",
      "Epoch 100/100\n",
      "130/130 [==============================] - 0s 282us/sample - loss: 0.2730 - mse: 0.2730\n"
     ]
    },
    {
     "data": {
      "text/plain": [
       "<tensorflow.python.keras.callbacks.History at 0x13ed58310>"
      ]
     },
     "execution_count": 88,
     "metadata": {},
     "output_type": "execute_result"
    }
   ],
   "source": [
    "model.fit(x, y, epochs = 100)"
   ]
  },
  {
   "cell_type": "code",
   "execution_count": 91,
   "metadata": {},
   "outputs": [],
   "source": [
    "y_pred = model.predict(x)"
   ]
  },
  {
   "cell_type": "code",
   "execution_count": 92,
   "metadata": {},
   "outputs": [
    {
     "data": {
      "image/png": "[encoded data removed]",
      "text/plain": [
       "<Figure size 720x576 with 1 Axes>"
      ]
     },
     "metadata": {
      "needs_background": "light"
     },
     "output_type": "display_data"
    }
   ],
   "source": [
    "plt.figure(figsize=(10, 8))\n",
    "\n",
    "plt.scatter(x, y, c = 'blue', label = 'Original data')\n",
    "plt.plot(x, y_pred, color = 'r', label = 'Fitted line')\n",
    "\n",
    "plt.title('Linear Regression') \n",
    "plt.legend() \n",
    "plt.show()"
   ]
  },
  {
   "cell_type": "code",
   "execution_count": null,
   "metadata": {},
   "outputs": [],
   "source": []
  },
  {
   "cell_type": "code",
   "execution_count": null,
   "metadata": {},
   "outputs": [],
   "source": []
  },
  {
   "cell_type": "code",
   "execution_count": null,
   "metadata": {},
   "outputs": [],
   "source": []
  },
  {
   "cell_type": "code",
   "execution_count": null,
   "metadata": {},
   "outputs": [],
   "source": []
  },
  {
   "cell_type": "code",
   "execution_count": null,
   "metadata": {},
   "outputs": [],
   "source": []
  },
  {
   "cell_type": "code",
   "execution_count": null,
   "metadata": {},
   "outputs": [],
   "source": []
  },
  {
   "cell_type": "code",
   "execution_count": null,
   "metadata": {},
   "outputs": [],
   "source": []
  }
 ],
 "metadata": {
  "kernelspec": {
   "display_name": "Python 3",
   "language": "python",
   "name": "python3"
  },
  "language_info": {
   "codemirror_mode": {
    "name": "ipython",
    "version": 3
   },
   "file_extension": ".py",
   "mimetype": "text/x-python",
   "name": "python",
   "nbconvert_exporter": "python",
   "pygments_lexer": "ipython3",
   "version": "3.7.4"
  }
 },
 "nbformat": 4,
 "nbformat_minor": 4
}
