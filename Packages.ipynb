{
 "cells": [
  {
   "cell_type": "markdown",
   "id": "67f3c686-22cb-4d12-9091-cd7a9610ab61",
   "metadata": {},
   "source": [
    "# jupyter notebook"
   ]
  },
  {
   "cell_type": "code",
   "execution_count": 4,
   "id": "0478943a-aa5d-438d-a8f3-5c76d92bb3ed",
   "metadata": {},
   "outputs": [
    {
     "name": "stdout",
     "output_type": "stream",
     "text": [
      "How Are You Here?\n"
     ]
    }
   ],
   "source": [
    "import camelcase\n",
    "# from camelcase import CamelCase\n",
    "\n",
    "c = camelcase.CamelCase()\n",
    "s = 'how are you here?'\n",
    "print(c.hump(s))"
   ]
  },
  {
   "cell_type": "code",
   "execution_count": null,
   "id": "fd25b576-473b-44f8-b10d-2f4ee672f739",
   "metadata": {},
   "outputs": [],
   "source": []
  }
 ],
 "metadata": {
  "kernelspec": {
   "display_name": "Python 3 (ipykernel)",
   "language": "python",
   "name": "python3"
  },
  "language_info": {
   "codemirror_mode": {
    "name": "ipython",
    "version": 3
   },
   "file_extension": ".py",
   "mimetype": "text/x-python",
   "name": "python",
   "nbconvert_exporter": "python",
   "pygments_lexer": "ipython3",
   "version": "3.11.1"
  }
 },
 "nbformat": 4,
 "nbformat_minor": 5
}
