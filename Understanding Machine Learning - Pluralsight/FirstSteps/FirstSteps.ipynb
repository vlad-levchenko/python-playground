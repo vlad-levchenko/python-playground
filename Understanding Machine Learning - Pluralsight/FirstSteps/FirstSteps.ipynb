{
 "cells": [
  {
   "cell_type": "markdown",
   "id": "d629a6dd-f44b-410f-8616-df87650af647",
   "metadata": {},
   "source": [
    "# Learning\n",
    "this notebook conrains some simple examples of using *Jupyter Notebook* and **Python3**"
   ]
  },
  {
   "cell_type": "markdown",
   "id": "36d952fe-fc58-4da8-b085-d45d1f4cf9e3",
   "metadata": {},
   "source": [
    "## Example 1: Hello, World"
   ]
  },
  {
   "cell_type": "code",
   "execution_count": 4,
   "id": "aa3ccc7d-5ffe-4ffe-af3c-98aef3aefb57",
   "metadata": {},
   "outputs": [
    {
     "name": "stdout",
     "output_type": "stream",
     "text": [
      "Hello Vlad\n",
      "\n"
     ]
    }
   ],
   "source": [
    "myName = 'Vlad'\n",
    "helloStatent = 'Hello ' + myName\n",
    "print(helloStatent, end='\\n\\n')\n",
    "\n",
    "x = 10"
   ]
  },
  {
   "cell_type": "code",
   "execution_count": 6,
   "id": "4ba402de-fe06-4209-8473-8020160e86a7",
   "metadata": {},
   "outputs": [
    {
     "name": "stdout",
     "output_type": "stream",
     "text": [
      "i=1, x=11\n",
      "i=2, x=13\n",
      "i=3, x=16\n",
      "i=4, x=20\n"
     ]
    }
   ],
   "source": [
    "for i in range(1, 5):\n",
    "    x = x + i\n",
    "    print('i={0}, x={1}'.format(i, x))"
   ]
  },
  {
   "cell_type": "code",
   "execution_count": null,
   "id": "2c8df568-b8ba-4290-aadc-9ba3a4a53349",
   "metadata": {},
   "outputs": [],
   "source": []
  }
 ],
 "metadata": {
  "kernelspec": {
   "display_name": "Python 3 (ipykernel)",
   "language": "python",
   "name": "python3"
  },
  "language_info": {
   "codemirror_mode": {
    "name": "ipython",
    "version": 3
   },
   "file_extension": ".py",
   "mimetype": "text/x-python",
   "name": "python",
   "nbconvert_exporter": "python",
   "pygments_lexer": "ipython3",
   "version": "3.11.1"
  }
 },
 "nbformat": 4,
 "nbformat_minor": 5
}
