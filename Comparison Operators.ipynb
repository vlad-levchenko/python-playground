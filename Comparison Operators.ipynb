{
 "cells": [
  {
   "cell_type": "code",
   "execution_count": 1,
   "id": "7e37bf7f-c281-46dc-a5b5-d89b7143ca8d",
   "metadata": {},
   "outputs": [],
   "source": [
    "a = 10\n",
    "b = 4\n",
    "c = 4"
   ]
  },
  {
   "cell_type": "markdown",
   "id": "7898b90f-eac0-4cce-8f81-a52a80307183",
   "metadata": {},
   "source": [
    "# Equal to"
   ]
  },
  {
   "cell_type": "code",
   "execution_count": 2,
   "id": "8baece31-8551-4251-a3a6-f296f63c86ef",
   "metadata": {},
   "outputs": [
    {
     "name": "stdout",
     "output_type": "stream",
     "text": [
      "False\n",
      "True\n"
     ]
    }
   ],
   "source": [
    "print(a == b)\n",
    "print(b == c)"
   ]
  },
  {
   "cell_type": "markdown",
   "id": "60520754-17c4-4de0-acc8-4a7ef123ecfd",
   "metadata": {},
   "source": [
    "# Not equal to"
   ]
  },
  {
   "cell_type": "code",
   "execution_count": 3,
   "id": "c623c431-61f8-462b-9aa8-e82927c952a6",
   "metadata": {},
   "outputs": [
    {
     "name": "stdout",
     "output_type": "stream",
     "text": [
      "False\n"
     ]
    }
   ],
   "source": [
    "print(b != c)"
   ]
  },
  {
   "cell_type": "markdown",
   "id": "e809d591-a4bd-4d81-a44c-69da4affb51d",
   "metadata": {},
   "source": [
    "# Greater than and Less than"
   ]
  },
  {
   "cell_type": "code",
   "execution_count": 4,
   "id": "688c32b9-e382-4ef5-95e0-95c7087b64b7",
   "metadata": {},
   "outputs": [
    {
     "name": "stdout",
     "output_type": "stream",
     "text": [
      "False\n",
      "False\n",
      "False\n",
      "True\n"
     ]
    }
   ],
   "source": [
    "print(b > c)\n",
    "print(b < c)\n",
    "print(a < c)\n",
    "print(a > c)"
   ]
  },
  {
   "cell_type": "markdown",
   "id": "ffbc7b8b-2773-44d9-a421-bf4bd756a95c",
   "metadata": {},
   "source": [
    "# Greater Ehan Equal To and Less Than Equal To"
   ]
  },
  {
   "cell_type": "code",
   "execution_count": 5,
   "id": "a270913a-e1e7-4476-9a9c-22f904b680dc",
   "metadata": {},
   "outputs": [
    {
     "name": "stdout",
     "output_type": "stream",
     "text": [
      "True\n",
      "True\n"
     ]
    }
   ],
   "source": [
    "print(b <= c)\n",
    "print(b >= c)"
   ]
  },
  {
   "cell_type": "code",
   "execution_count": null,
   "id": "c17d2357-00d5-459c-a275-f01009d54ca4",
   "metadata": {},
   "outputs": [],
   "source": []
  }
 ],
 "metadata": {
  "kernelspec": {
   "display_name": "Python 3 (ipykernel)",
   "language": "python",
   "name": "python3"
  },
  "language_info": {
   "codemirror_mode": {
    "name": "ipython",
    "version": 3
   },
   "file_extension": ".py",
   "mimetype": "text/x-python",
   "name": "python",
   "nbconvert_exporter": "python",
   "pygments_lexer": "ipython3",
   "version": "3.11.1"
  }
 },
 "nbformat": 4,
 "nbformat_minor": 5
}
