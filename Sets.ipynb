{
 "cells": [
  {
   "cell_type": "markdown",
   "id": "7a99f52c",
   "metadata": {},
   "source": [
    "# Creating a set"
   ]
  },
  {
   "cell_type": "code",
   "execution_count": 1,
   "id": "49ef4a34",
   "metadata": {},
   "outputs": [
    {
     "name": "stdout",
     "output_type": "stream",
     "text": [
      "{'vlevchenko@pps.io', 'vlad@live.com'}\n",
      "<class 'set'>\n"
     ]
    }
   ],
   "source": [
    "mySet = {\n",
    "    'vlad@live.com',\n",
    "    'vlevchenko@pps.io',\n",
    "}\n",
    "\n",
    "print(mySet)\n",
    "print(type(mySet))"
   ]
  },
  {
   "cell_type": "markdown",
   "id": "f5bd63bd",
   "metadata": {},
   "source": [
    "## Creating a set of numbers"
   ]
  },
  {
   "cell_type": "code",
   "execution_count": 5,
   "id": "6c1d7c7b",
   "metadata": {},
   "outputs": [
    {
     "name": "stdout",
     "output_type": "stream",
     "text": [
      "{1, 2, 3, 17}\n",
      "<class 'set'>\n"
     ]
    }
   ],
   "source": [
    "numbersSet = {1, 2, 3, 17}\n",
    "\n",
    "print(numbersSet)\n",
    "print(type(numbersSet))"
   ]
  },
  {
   "cell_type": "markdown",
   "id": "75147da3",
   "metadata": {},
   "source": [
    "## Creating a set for mixed types"
   ]
  },
  {
   "cell_type": "code",
   "execution_count": 6,
   "id": "a2537895",
   "metadata": {},
   "outputs": [
    {
     "name": "stdout",
     "output_type": "stream",
     "text": [
      "{1, 2, 3, 17, 'Vlad'}\n",
      "<class 'set'>\n"
     ]
    }
   ],
   "source": [
    "mixedSet = {1, 'Vlad', 2, 3, 17}\n",
    "\n",
    "print(mixedSet)\n",
    "print(type(mixedSet))"
   ]
  },
  {
   "cell_type": "markdown",
   "id": "69bf5bdb",
   "metadata": {},
   "source": [
    "## Creating an empty sets"
   ]
  },
  {
   "cell_type": "code",
   "execution_count": 8,
   "id": "6f551c5e",
   "metadata": {},
   "outputs": [
    {
     "name": "stdout",
     "output_type": "stream",
     "text": [
      "{}\n",
      "<class 'dict'>\n"
     ]
    }
   ],
   "source": [
    "emptySet = {}\n",
    "\n",
    "print(emptySet)\n",
    "print(type(emptySet))"
   ]
  },
  {
   "cell_type": "code",
   "execution_count": 9,
   "id": "ec746e85",
   "metadata": {},
   "outputs": [
    {
     "name": "stdout",
     "output_type": "stream",
     "text": [
      "set()\n",
      "<class 'set'>\n"
     ]
    }
   ],
   "source": [
    "emptySetCorrect = set()\n",
    "\n",
    "print(emptySetCorrect)\n",
    "print(type(emptySetCorrect))"
   ]
  },
  {
   "cell_type": "markdown",
   "id": "1945ba93",
   "metadata": {},
   "source": [
    "## Creating Sets using Lists"
   ]
  },
  {
   "cell_type": "code",
   "execution_count": 11,
   "id": "39c3a38d",
   "metadata": {},
   "outputs": [
    {
     "name": "stdout",
     "output_type": "stream",
     "text": [
      "['vlad@live.com', 'vlevchenko@pps.io']\n",
      "<class 'list'>\n"
     ]
    }
   ],
   "source": [
    "list = [\n",
    "    'vlad@live.com',\n",
    "    'vlevchenko@pps.io',\n",
    "]\n",
    "\n",
    "print(list)\n",
    "print(type(list))"
   ]
  },
  {
   "cell_type": "code",
   "execution_count": 12,
   "id": "df0fe6cb",
   "metadata": {},
   "outputs": [
    {
     "name": "stdout",
     "output_type": "stream",
     "text": [
      "{'vlevchenko@pps.io', 'vlad@live.com'}\n",
      "<class 'set'>\n"
     ]
    }
   ],
   "source": [
    "listSet = set(list)\n",
    "\n",
    "print(listSet)\n",
    "print(type(listSet))"
   ]
  },
  {
   "cell_type": "markdown",
   "id": "0429ad75",
   "metadata": {},
   "source": [
    "## Accessing elements"
   ]
  },
  {
   "cell_type": "code",
   "execution_count": 16,
   "id": "b055ecd3",
   "metadata": {},
   "outputs": [
    {
     "name": "stdout",
     "output_type": "stream",
     "text": [
      "{'vlevchenko@pps.io', 'vlevchenko@live.com', 'vlad@live.com'}\n"
     ]
    },
    {
     "ename": "TypeError",
     "evalue": "'set' object is not subscriptable",
     "output_type": "error",
     "traceback": [
      "\u001b[0;31m---------------------------------------------------------------------------\u001b[0m",
      "\u001b[0;31mTypeError\u001b[0m                                 Traceback (most recent call last)",
      "Cell \u001b[0;32mIn[16], line 8\u001b[0m\n\u001b[1;32m      1\u001b[0m mySetNew \u001b[38;5;241m=\u001b[39m {\n\u001b[1;32m      2\u001b[0m     \u001b[38;5;124m'\u001b[39m\u001b[38;5;124mvlad@live.com\u001b[39m\u001b[38;5;124m'\u001b[39m,\n\u001b[1;32m      3\u001b[0m     \u001b[38;5;124m'\u001b[39m\u001b[38;5;124mvlevchenko@pps.io\u001b[39m\u001b[38;5;124m'\u001b[39m,\n\u001b[1;32m      4\u001b[0m     \u001b[38;5;124m'\u001b[39m\u001b[38;5;124mvlevchenko@live.com\u001b[39m\u001b[38;5;124m'\u001b[39m,\n\u001b[1;32m      5\u001b[0m }\n\u001b[1;32m      7\u001b[0m \u001b[38;5;28mprint\u001b[39m(mySetNew)\n\u001b[0;32m----> 8\u001b[0m \u001b[38;5;28mprint\u001b[39m(\u001b[43mmySetNew\u001b[49m\u001b[43m[\u001b[49m\u001b[38;5;241;43m0\u001b[39;49m\u001b[43m]\u001b[49m)\n",
      "\u001b[0;31mTypeError\u001b[0m: 'set' object is not subscriptable"
     ]
    }
   ],
   "source": [
    "mySetNew = {\n",
    "    'vlad@live.com',\n",
    "    'vlevchenko@pps.io',\n",
    "    'vlevchenko@live.com',\n",
    "}\n",
    "\n",
    "print(mySetNew)\n",
    "print(mySetNew[0])\n"
   ]
  },
  {
   "cell_type": "code",
   "execution_count": 17,
   "id": "bca4db47",
   "metadata": {},
   "outputs": [
    {
     "name": "stdout",
     "output_type": "stream",
     "text": [
      "vlevchenko@pps.io\n",
      "vlevchenko@live.com\n",
      "vlad@live.com\n"
     ]
    }
   ],
   "source": [
    "for email in mySetNew:\n",
    "    print(email)"
   ]
  },
  {
   "cell_type": "code",
   "execution_count": 18,
   "id": "402cbaa7",
   "metadata": {},
   "outputs": [
    {
     "name": "stdout",
     "output_type": "stream",
     "text": [
      "True\n"
     ]
    }
   ],
   "source": [
    "print('vlevchenko@pps.io' in mySetNew)"
   ]
  },
  {
   "cell_type": "markdown",
   "id": "4ba72ed9",
   "metadata": {},
   "source": [
    "# Characteristics of a Set"
   ]
  },
  {
   "cell_type": "code",
   "execution_count": 19,
   "id": "7bc83228",
   "metadata": {},
   "outputs": [
    {
     "ename": "TypeError",
     "evalue": "'set' object does not support item assignment",
     "output_type": "error",
     "traceback": [
      "\u001b[0;31m---------------------------------------------------------------------------\u001b[0m",
      "\u001b[0;31mTypeError\u001b[0m                                 Traceback (most recent call last)",
      "Cell \u001b[0;32mIn[19], line 6\u001b[0m\n\u001b[1;32m      1\u001b[0m mySetNew \u001b[38;5;241m=\u001b[39m {\n\u001b[1;32m      2\u001b[0m     \u001b[38;5;124m'\u001b[39m\u001b[38;5;124mvlad@live.com\u001b[39m\u001b[38;5;124m'\u001b[39m,\n\u001b[1;32m      3\u001b[0m     \u001b[38;5;124m'\u001b[39m\u001b[38;5;124mvlevchenko@pps.io\u001b[39m\u001b[38;5;124m'\u001b[39m,\n\u001b[1;32m      4\u001b[0m     \u001b[38;5;124m'\u001b[39m\u001b[38;5;124mvlevchenko@live.com\u001b[39m\u001b[38;5;124m'\u001b[39m,\n\u001b[1;32m      5\u001b[0m }\n\u001b[0;32m----> 6\u001b[0m \u001b[43mmySetNew\u001b[49m\u001b[43m[\u001b[49m\u001b[38;5;241;43m0\u001b[39;49m\u001b[43m]\u001b[49m \u001b[38;5;241m=\u001b[39m \u001b[38;5;124m'\u001b[39m\u001b[38;5;124mvlad1@live.com\u001b[39m\u001b[38;5;124m'\u001b[39m\n",
      "\u001b[0;31mTypeError\u001b[0m: 'set' object does not support item assignment"
     ]
    }
   ],
   "source": [
    "mySetNew = {\n",
    "    'vlad@live.com',\n",
    "    'vlevchenko@pps.io',\n",
    "    'vlevchenko@live.com',\n",
    "}\n",
    "mySetNew[0] = 'vlad1@live.com'"
   ]
  },
  {
   "cell_type": "markdown",
   "id": "397d548b",
   "metadata": {},
   "source": [
    "## Sets don't have an orded"
   ]
  },
  {
   "cell_type": "code",
   "execution_count": 20,
   "id": "47b52bea",
   "metadata": {},
   "outputs": [
    {
     "name": "stdout",
     "output_type": "stream",
     "text": [
      "{'vlevchenko@pps.io', 'vlevchenko@live.com', 'vlad@live.com'}\n"
     ]
    }
   ],
   "source": [
    "print(mySetNew)"
   ]
  },
  {
   "cell_type": "markdown",
   "id": "db99aa61",
   "metadata": {},
   "source": [
    "## Sets don't allow duplicates"
   ]
  },
  {
   "cell_type": "code",
   "execution_count": 23,
   "id": "ae1659cc",
   "metadata": {},
   "outputs": [
    {
     "name": "stdout",
     "output_type": "stream",
     "text": [
      "{'vlevchenko@pps.io', 'vlevchenko@live.com', 'vlad@live.com'}\n"
     ]
    }
   ],
   "source": [
    "mySetNew = {\n",
    "    'vlad@live.com',\n",
    "    'vlad@live.com',\n",
    "    'vlevchenko@pps.io',\n",
    "    'vlevchenko@live.com',\n",
    "}\n",
    "\n",
    "print(mySetNew)"
   ]
  },
  {
   "cell_type": "code",
   "execution_count": null,
   "id": "e6d90d2c",
   "metadata": {},
   "outputs": [],
   "source": []
  }
 ],
 "metadata": {
  "kernelspec": {
   "display_name": "Python 3 (ipykernel)",
   "language": "python",
   "name": "python3"
  },
  "language_info": {
   "codemirror_mode": {
    "name": "ipython",
    "version": 3
   },
   "file_extension": ".py",
   "mimetype": "text/x-python",
   "name": "python",
   "nbconvert_exporter": "python",
   "pygments_lexer": "ipython3",
   "version": "3.11.1"
  }
 },
 "nbformat": 4,
 "nbformat_minor": 5
}
