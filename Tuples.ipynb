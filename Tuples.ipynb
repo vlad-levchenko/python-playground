{
 "cells": [
  {
   "cell_type": "markdown",
   "id": "458efd4f",
   "metadata": {},
   "source": [
    "# Creating Tuple"
   ]
  },
  {
   "cell_type": "code",
   "execution_count": 10,
   "id": "8cc3d6bd",
   "metadata": {},
   "outputs": [
    {
     "name": "stdout",
     "output_type": "stream",
     "text": [
      "('apple', 'banana', 'cherry')\n",
      "<class 'tuple'>\n",
      "cherry\n"
     ]
    }
   ],
   "source": [
    "myTuple = ('apple', 'banana', 'cherry')\n",
    "print(myTuple)\n",
    "print(type(myTuple))\n",
    "\n",
    "print(myTuple[2])"
   ]
  },
  {
   "cell_type": "code",
   "execution_count": 8,
   "id": "a0653ffe",
   "metadata": {},
   "outputs": [
    {
     "name": "stdout",
     "output_type": "stream",
     "text": [
      "apple\n",
      "<class 'str'>\n",
      "('apple',)\n",
      "<class 'tuple'>\n"
     ]
    }
   ],
   "source": [
    "myTupleSingle = ('apple')\n",
    "print(myTupleSingle)\n",
    "print(type(myTupleSingle))\n",
    "\n",
    "myTupleSingleForced = ('apple',)\n",
    "print(myTupleSingleForced)\n",
    "print(type(myTupleSingleForced))"
   ]
  },
  {
   "cell_type": "code",
   "execution_count": 5,
   "id": "4a86d502",
   "metadata": {},
   "outputs": [
    {
     "name": "stdout",
     "output_type": "stream",
     "text": [
      "('apple', 'banana', 'cherry', 10, 11.5)\n",
      "<class 'tuple'>\n"
     ]
    }
   ],
   "source": [
    "myTupleMixed = ('apple', 'banana', 'cherry', 10, 11.5)\n",
    "print(myTupleMixed)\n",
    "print(type(myTupleMixed))"
   ]
  },
  {
   "cell_type": "code",
   "execution_count": 9,
   "id": "5f0f0098",
   "metadata": {},
   "outputs": [
    {
     "name": "stdout",
     "output_type": "stream",
     "text": [
      "()\n",
      "<class 'tuple'>\n"
     ]
    }
   ],
   "source": [
    "myTupleEmpty = ()\n",
    "print(myTupleEmpty)\n",
    "print(type(myTupleEmpty))"
   ]
  },
  {
   "cell_type": "markdown",
   "id": "2d3e46d0",
   "metadata": {},
   "source": [
    "## Using \"in\" operator"
   ]
  },
  {
   "cell_type": "code",
   "execution_count": 11,
   "id": "e1dded03",
   "metadata": {},
   "outputs": [
    {
     "name": "stdout",
     "output_type": "stream",
     "text": [
      "True\n"
     ]
    }
   ],
   "source": [
    "print('apple' in myTuple)"
   ]
  },
  {
   "cell_type": "code",
   "execution_count": 12,
   "id": "9c822048",
   "metadata": {},
   "outputs": [
    {
     "name": "stdout",
     "output_type": "stream",
     "text": [
      "False\n"
     ]
    }
   ],
   "source": [
    "print('apple' not in myTuple)"
   ]
  },
  {
   "cell_type": "code",
   "execution_count": 13,
   "id": "50f3819f",
   "metadata": {},
   "outputs": [
    {
     "name": "stdout",
     "output_type": "stream",
     "text": [
      "False\n"
     ]
    }
   ],
   "source": [
    "print('watermelon' in myTuple)"
   ]
  },
  {
   "cell_type": "code",
   "execution_count": 14,
   "id": "613c9564",
   "metadata": {},
   "outputs": [
    {
     "name": "stdout",
     "output_type": "stream",
     "text": [
      "True\n"
     ]
    }
   ],
   "source": [
    "print('watermelon' not in myTuple)"
   ]
  },
  {
   "cell_type": "markdown",
   "id": "5d28d321",
   "metadata": {},
   "source": [
    "## Tuple Packing"
   ]
  },
  {
   "cell_type": "code",
   "execution_count": 16,
   "id": "a5bc9a33",
   "metadata": {},
   "outputs": [
    {
     "name": "stdout",
     "output_type": "stream",
     "text": [
      "('John', 25, 'New York')\n",
      "<class 'tuple'>\n"
     ]
    }
   ],
   "source": [
    "name = 'John'\n",
    "age = 25\n",
    "city = 'New York'\n",
    "\n",
    "packedTuple = name, age, city\n",
    "\n",
    "print(packedTuple)\n",
    "print(type(packedTuple))"
   ]
  },
  {
   "cell_type": "markdown",
   "id": "72b3503e",
   "metadata": {},
   "source": [
    "## Tuple Unpacking"
   ]
  },
  {
   "cell_type": "code",
   "execution_count": 17,
   "id": "b7990e96",
   "metadata": {},
   "outputs": [
    {
     "name": "stdout",
     "output_type": "stream",
     "text": [
      "John\n",
      "25\n",
      "New York\n"
     ]
    }
   ],
   "source": [
    "person = ('John', 25, 'New York')\n",
    "\n",
    "name, age, city = person\n",
    "\n",
    "print(name)\n",
    "print(age)\n",
    "print(city)\n"
   ]
  },
  {
   "cell_type": "markdown",
   "id": "29f15fc0",
   "metadata": {},
   "source": [
    "## Tuples being used in a function"
   ]
  },
  {
   "cell_type": "code",
   "execution_count": 18,
   "id": "bfbfed49",
   "metadata": {},
   "outputs": [
    {
     "name": "stdout",
     "output_type": "stream",
     "text": [
      "Name: John\n",
      "Age: 25\n",
      "City: New York\n"
     ]
    }
   ],
   "source": [
    "def getUserInfo():\n",
    "    name = 'John'\n",
    "    age = 25\n",
    "    city = 'New York'\n",
    "    \n",
    "    return name, age, city\n",
    "\n",
    "name, user, city = getUserInfo()\n",
    "\n",
    "print('Name:', name)\n",
    "print('Age:', age)\n",
    "print('City:', city)"
   ]
  },
  {
   "cell_type": "markdown",
   "id": "2b43f987",
   "metadata": {},
   "source": [
    "# Characteristics of Tuple"
   ]
  },
  {
   "cell_type": "markdown",
   "id": "fad7b394",
   "metadata": {},
   "source": [
    "## 1. You cannot modify a Tuple"
   ]
  },
  {
   "cell_type": "code",
   "execution_count": 19,
   "id": "c4e0dcba",
   "metadata": {},
   "outputs": [
    {
     "ename": "TypeError",
     "evalue": "'tuple' object does not support item assignment",
     "output_type": "error",
     "traceback": [
      "\u001b[0;31m---------------------------------------------------------------------------\u001b[0m",
      "\u001b[0;31mTypeError\u001b[0m                                 Traceback (most recent call last)",
      "Cell \u001b[0;32mIn[19], line 2\u001b[0m\n\u001b[1;32m      1\u001b[0m myTuple \u001b[38;5;241m=\u001b[39m (\u001b[38;5;124m'\u001b[39m\u001b[38;5;124mapple\u001b[39m\u001b[38;5;124m'\u001b[39m, \u001b[38;5;124m'\u001b[39m\u001b[38;5;124mbanana\u001b[39m\u001b[38;5;124m'\u001b[39m, \u001b[38;5;124m'\u001b[39m\u001b[38;5;124mcherry\u001b[39m\u001b[38;5;124m'\u001b[39m)\n\u001b[0;32m----> 2\u001b[0m \u001b[43mmyTuple\u001b[49m\u001b[43m[\u001b[49m\u001b[38;5;241;43m0\u001b[39;49m\u001b[43m]\u001b[49m \u001b[38;5;241m=\u001b[39m \u001b[38;5;124m'\u001b[39m\u001b[38;5;124mJohny\u001b[39m\u001b[38;5;124m'\u001b[39m\n",
      "\u001b[0;31mTypeError\u001b[0m: 'tuple' object does not support item assignment"
     ]
    }
   ],
   "source": [
    "myTuple = ('apple', 'banana', 'cherry')\n",
    "myTuple[0] = 'Johny'"
   ]
  },
  {
   "cell_type": "markdown",
   "id": "271f98b3",
   "metadata": {},
   "source": [
    "## Tuples have order"
   ]
  },
  {
   "cell_type": "code",
   "execution_count": 20,
   "id": "8e3e5a3e",
   "metadata": {},
   "outputs": [
    {
     "name": "stdout",
     "output_type": "stream",
     "text": [
      "('apple', 'banana', 'cherry')\n"
     ]
    }
   ],
   "source": [
    "print(myTuple)"
   ]
  },
  {
   "cell_type": "code",
   "execution_count": null,
   "id": "e4aefe18",
   "metadata": {},
   "outputs": [],
   "source": []
  }
 ],
 "metadata": {
  "kernelspec": {
   "display_name": "Python 3 (ipykernel)",
   "language": "python",
   "name": "python3"
  },
  "language_info": {
   "codemirror_mode": {
    "name": "ipython",
    "version": 3
   },
   "file_extension": ".py",
   "mimetype": "text/x-python",
   "name": "python",
   "nbconvert_exporter": "python",
   "pygments_lexer": "ipython3",
   "version": "3.11.1"
  }
 },
 "nbformat": 4,
 "nbformat_minor": 5
}
